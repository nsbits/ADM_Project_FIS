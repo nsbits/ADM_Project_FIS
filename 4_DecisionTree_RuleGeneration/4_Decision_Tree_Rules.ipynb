{
  "nbformat": 4,
  "nbformat_minor": 0,
  "metadata": {
    "colab": {
      "name": "4_Decision_Tree_Rules.ipynb",
      "provenance": [],
      "collapsed_sections": []
    },
    "kernelspec": {
      "name": "python3",
      "display_name": "Python 3"
    },
    "language_info": {
      "name": "python"
    }
  },
  "cells": [
    {
      "cell_type": "code",
      "metadata": {
        "id": "eAcFHCA0UDxF"
      },
      "source": [
        "from matplotlib import pyplot as plt\n",
        "from sklearn import datasets\n",
        "from sklearn.tree import DecisionTreeClassifier \n",
        "from sklearn import tree\n",
        "\n"
      ],
      "execution_count": 6,
      "outputs": []
    },
    {
      "cell_type": "code",
      "metadata": {
        "id": "SB_bG6d7YMef"
      },
      "source": [
        ""
      ],
      "execution_count": 3,
      "outputs": []
    },
    {
      "cell_type": "code",
      "metadata": {
        "colab": {
          "base_uri": "https://localhost:8080/"
        },
        "id": "Znl9zHJ72Ikr",
        "outputId": "b8b47e2e-c315-44b7-a6bd-ab4736608d27"
      },
      "source": [
        "!pip install apyori\n",
        "!pip install mlxtend --upgrade --no-deps\n",
        "!pip install -U scikit-fuzzy"
      ],
      "execution_count": 7,
      "outputs": [
        {
          "output_type": "stream",
          "text": [
            "Requirement already satisfied: apyori in /usr/local/lib/python3.7/dist-packages (1.1.2)\n",
            "Requirement already up-to-date: mlxtend in /usr/local/lib/python3.7/dist-packages (0.18.0)\n",
            "Requirement already up-to-date: scikit-fuzzy in /usr/local/lib/python3.7/dist-packages (0.4.2)\n",
            "Requirement already satisfied, skipping upgrade: scipy>=0.9.0 in /usr/local/lib/python3.7/dist-packages (from scikit-fuzzy) (1.4.1)\n",
            "Requirement already satisfied, skipping upgrade: numpy>=1.6.0 in /usr/local/lib/python3.7/dist-packages (from scikit-fuzzy) (1.19.5)\n",
            "Requirement already satisfied, skipping upgrade: networkx>=1.9.0 in /usr/local/lib/python3.7/dist-packages (from scikit-fuzzy) (2.5.1)\n",
            "Requirement already satisfied, skipping upgrade: decorator<5,>=4.3 in /usr/local/lib/python3.7/dist-packages (from networkx>=1.9.0->scikit-fuzzy) (4.4.2)\n"
          ],
          "name": "stdout"
        }
      ]
    },
    {
      "cell_type": "code",
      "metadata": {
        "id": "jNqfWFVI2Aau"
      },
      "source": [
        ""
      ],
      "execution_count": 3,
      "outputs": []
    },
    {
      "cell_type": "code",
      "metadata": {
        "id": "yA94NG3SOtTf"
      },
      "source": [
        "import numpy as np\n",
        "import pandas as pd\n",
        "from pandas import read_csv\n",
        "from pandas.plotting import scatter_matrix\n",
        "from matplotlib import pyplot\n",
        "from sklearn.model_selection import train_test_split\n",
        "from sklearn.tree import DecisionTreeClassifier\n",
        "from sklearn.metrics import classification_report, confusion_matrix\n",
        "import seaborn as sn\n",
        "\n",
        "from skfuzzy import control as ctrl\n",
        "import matplotlib.pyplot as plt\n",
        "%matplotlib inline"
      ],
      "execution_count": 8,
      "outputs": []
    },
    {
      "cell_type": "code",
      "metadata": {
        "colab": {
          "base_uri": "https://localhost:8080/"
        },
        "id": "F94Sg09qxus3",
        "outputId": "eafe1e3c-a9db-41f9-a40d-4c9225af13a6"
      },
      "source": [
        "from __future__ import print_function\n",
        "import numpy as np\n",
        "from sklearn import datasets, linear_model\n",
        "\n",
        "\n",
        "\n",
        "#def main():\n",
        "#iris = datasets.load_iris()\n",
        "df = read_csv(\"/content/discretised_dataset.csv\")\n",
        "print(type(df))\n",
        "new_df=df.to_numpy()\n",
        "print(new_df.shape)\n",
        "print(type(new_df))\n",
        "X=new_df[:,[1,2,3,4,5,6,7]]\n",
        "print(X)\n",
        "y=new_df[:,8]\n",
        "print(y)\n",
        "# Some noisy data not correlated\n",
        "#E = np.random.uniform(0, 0.1, size=(len(iris.data), 20))\n",
        "\n",
        "\n",
        "\n",
        "\n",
        "\n",
        "\n",
        "print(df)"
      ],
      "execution_count": 10,
      "outputs": [
        {
          "output_type": "stream",
          "text": [
            "<class 'pandas.core.frame.DataFrame'>\n",
            "(299, 9)\n",
            "<class 'numpy.ndarray'>\n",
            "[[2 0 0 ... 1 1 0]\n",
            " [0 2 1 ... 0 1 0]\n",
            " [1 0 0 ... 0 0 0]\n",
            " ...\n",
            " [0 1 2 ... 0 2 2]\n",
            " [0 1 1 ... 1 0 2]\n",
            " [0 0 2 ... 1 2 2]]\n",
            "[1 1 1 1 1 1 1 1 1 1 1 1 1 1 0 1 1 1 1 1 0 1 1 0 1 1 1 1 1 1 1 1 1 0 1 1 1\n",
            " 1 0 1 1 1 1 0 1 1 1 1 1 1 1 1 1 1 1 1 0 0 1 1 1 1 0 1 0 1 1 1 1 1 0 0 1 0\n",
            " 1 1 0 0 0 0 0 0 1 0 1 0 0 0 0 0 0 0 0 1 0 0 0 0 0 0 0 0 0 0 0 1 0 0 0 0 1\n",
            " 0 0 1 0 0 0 0 0 1 0 0 0 0 1 0 1 0 0 0 0 0 0 0 0 0 0 0 0 0 1 0 0 0 1 0 0 0\n",
            " 1 0 1 0 0 0 0 0 0 0 0 0 0 0 0 1 1 1 0 1 0 0 0 0 0 0 0 0 0 0 0 0 0 1 1 1 1\n",
            " 1 1 1 0 0 0 0 0 0 1 1 0 0 0 0 0 0 0 0 0 0 0 0 0 0 0 0 0 1 0 0 0 1 0 0 1 0\n",
            " 0 0 0 0 0 0 0 0 1 0 0 0 0 0 0 0 0 0 0 0 0 0 0 0 1 0 0 0 0 0 0 0 0 0 0 0 0\n",
            " 0 0 0 1 0 0 0 1 0 0 0 0 0 0 0 0 0 0 0 0 0 0 0 0 0 0 0 0 0 0 0 0 0 0 0 0 0\n",
            " 0 0 0]\n",
            "     Unnamed: 0  age_by_ds  ...  time_by_ds  DeathL\n",
            "0             0          2  ...           0       1\n",
            "1             1          0  ...           0       1\n",
            "2             2          1  ...           0       1\n",
            "3             3          0  ...           0       1\n",
            "4             4          1  ...           0       1\n",
            "..          ...        ...  ...         ...     ...\n",
            "294         294          1  ...           2       0\n",
            "295         295          0  ...           2       0\n",
            "296         296          0  ...           2       0\n",
            "297         297          0  ...           2       0\n",
            "298         298          0  ...           2       0\n",
            "\n",
            "[299 rows x 9 columns]\n"
          ],
          "name": "stdout"
        }
      ]
    },
    {
      "cell_type": "code",
      "metadata": {
        "id": "3C3O55HiasUV"
      },
      "source": [
        "from matplotlib import pyplot as plt\n",
        "from sklearn import datasets\n",
        "from sklearn.tree import DecisionTreeClassifier \n",
        "from sklearn import tree\n",
        "\n",
        "# Prepare the data data\n",
        "#iris = datasets.load_iris()\n",
        "#X = iris.data\n",
        "#y = iris.target\n",
        "\n",
        "# Fit the classifier with max_depth=3\n",
        "clf = DecisionTreeClassifier(max_depth=4, random_state=1234)\n",
        "model = clf.fit(X, y)\n"
      ],
      "execution_count": 11,
      "outputs": []
    },
    {
      "cell_type": "code",
      "metadata": {
        "id": "ugeSPodNgr_o"
      },
      "source": [
        ""
      ],
      "execution_count": null,
      "outputs": []
    },
    {
      "cell_type": "code",
      "metadata": {
        "colab": {
          "base_uri": "https://localhost:8080/"
        },
        "id": "tfAud2BEazM-",
        "outputId": "52173394-852c-400d-b817-1ed5837f572a"
      },
      "source": [
        "# get the text representation\n",
        "text_representation = tree.export_text(clf)\n",
        "print(text_representation)"
      ],
      "execution_count": 12,
      "outputs": [
        {
          "output_type": "stream",
          "text": [
            "|--- feature_6 <= 0.50\n",
            "|   |--- feature_3 <= 0.50\n",
            "|   |   |--- feature_1 <= 0.50\n",
            "|   |   |   |--- feature_4 <= 0.50\n",
            "|   |   |   |   |--- class: 1\n",
            "|   |   |   |--- feature_4 >  0.50\n",
            "|   |   |   |   |--- class: 1\n",
            "|   |   |--- feature_1 >  0.50\n",
            "|   |   |   |--- feature_2 <= 1.50\n",
            "|   |   |   |   |--- class: 1\n",
            "|   |   |   |--- feature_2 >  1.50\n",
            "|   |   |   |   |--- class: 0\n",
            "|   |--- feature_3 >  0.50\n",
            "|   |   |--- feature_2 <= 0.50\n",
            "|   |   |   |--- feature_3 <= 1.50\n",
            "|   |   |   |   |--- class: 1\n",
            "|   |   |   |--- feature_3 >  1.50\n",
            "|   |   |   |   |--- class: 0\n",
            "|   |   |--- feature_2 >  0.50\n",
            "|   |   |   |--- feature_3 <= 1.50\n",
            "|   |   |   |   |--- class: 0\n",
            "|   |   |   |--- feature_3 >  1.50\n",
            "|   |   |   |   |--- class: 1\n",
            "|--- feature_6 >  0.50\n",
            "|   |--- feature_2 <= 0.50\n",
            "|   |   |--- feature_4 <= 0.50\n",
            "|   |   |   |--- feature_6 <= 1.50\n",
            "|   |   |   |   |--- class: 1\n",
            "|   |   |   |--- feature_6 >  1.50\n",
            "|   |   |   |   |--- class: 0\n",
            "|   |   |--- feature_4 >  0.50\n",
            "|   |   |   |--- feature_5 <= 0.50\n",
            "|   |   |   |   |--- class: 1\n",
            "|   |   |   |--- feature_5 >  0.50\n",
            "|   |   |   |   |--- class: 0\n",
            "|   |--- feature_2 >  0.50\n",
            "|   |   |--- feature_4 <= 1.50\n",
            "|   |   |   |--- feature_0 <= 1.50\n",
            "|   |   |   |   |--- class: 0\n",
            "|   |   |   |--- feature_0 >  1.50\n",
            "|   |   |   |   |--- class: 0\n",
            "|   |   |--- feature_4 >  1.50\n",
            "|   |   |   |--- class: 1\n",
            "\n"
          ],
          "name": "stdout"
        }
      ]
    },
    {
      "cell_type": "code",
      "metadata": {
        "id": "-S6MBwLabdgd"
      },
      "source": [
        ""
      ],
      "execution_count": null,
      "outputs": []
    },
    {
      "cell_type": "code",
      "metadata": {
        "colab": {
          "base_uri": "https://localhost:8080/"
        },
        "id": "qsaj3kiubeBv",
        "outputId": "b75747ff-fafd-4622-cff2-644b7d957f41"
      },
      "source": [
        "import pandas as pd\n",
        "feature_df = pd.read_csv(\"/content/discretised_dataset.csv\")\n",
        "keys=list(feature_df.keys())\n",
        "new_key=keys[1:8]\n",
        "target_key=keys[8]\n",
        "print(new_key)\n",
        "print(target_key)"
      ],
      "execution_count": 13,
      "outputs": [
        {
          "output_type": "stream",
          "text": [
            "['age_by_ds', 'creatinine_phosphokinase_by_ds', 'ejection_fraction_by_ds', 'serum_sodium_by_ds', 'serum_creatinine_by_ds', 'platelets_by_ds', 'time_by_ds']\n",
            "DeathL\n"
          ],
          "name": "stdout"
        }
      ]
    },
    {
      "cell_type": "code",
      "metadata": {
        "colab": {
          "base_uri": "https://localhost:8080/"
        },
        "id": "ZHOxfrPNa36U",
        "outputId": "6fed18af-92f8-44d6-a1c7-9226e6cfdc8a"
      },
      "source": [
        "text_representation = tree.export_text(clf, feature_names=new_key)\n",
        "print(text_representation)"
      ],
      "execution_count": 14,
      "outputs": [
        {
          "output_type": "stream",
          "text": [
            "|--- time_by_ds <= 0.50\n",
            "|   |--- serum_sodium_by_ds <= 0.50\n",
            "|   |   |--- creatinine_phosphokinase_by_ds <= 0.50\n",
            "|   |   |   |--- serum_creatinine_by_ds <= 0.50\n",
            "|   |   |   |   |--- class: 1\n",
            "|   |   |   |--- serum_creatinine_by_ds >  0.50\n",
            "|   |   |   |   |--- class: 1\n",
            "|   |   |--- creatinine_phosphokinase_by_ds >  0.50\n",
            "|   |   |   |--- ejection_fraction_by_ds <= 1.50\n",
            "|   |   |   |   |--- class: 1\n",
            "|   |   |   |--- ejection_fraction_by_ds >  1.50\n",
            "|   |   |   |   |--- class: 0\n",
            "|   |--- serum_sodium_by_ds >  0.50\n",
            "|   |   |--- ejection_fraction_by_ds <= 0.50\n",
            "|   |   |   |--- serum_sodium_by_ds <= 1.50\n",
            "|   |   |   |   |--- class: 1\n",
            "|   |   |   |--- serum_sodium_by_ds >  1.50\n",
            "|   |   |   |   |--- class: 0\n",
            "|   |   |--- ejection_fraction_by_ds >  0.50\n",
            "|   |   |   |--- serum_sodium_by_ds <= 1.50\n",
            "|   |   |   |   |--- class: 0\n",
            "|   |   |   |--- serum_sodium_by_ds >  1.50\n",
            "|   |   |   |   |--- class: 1\n",
            "|--- time_by_ds >  0.50\n",
            "|   |--- ejection_fraction_by_ds <= 0.50\n",
            "|   |   |--- serum_creatinine_by_ds <= 0.50\n",
            "|   |   |   |--- time_by_ds <= 1.50\n",
            "|   |   |   |   |--- class: 1\n",
            "|   |   |   |--- time_by_ds >  1.50\n",
            "|   |   |   |   |--- class: 0\n",
            "|   |   |--- serum_creatinine_by_ds >  0.50\n",
            "|   |   |   |--- platelets_by_ds <= 0.50\n",
            "|   |   |   |   |--- class: 1\n",
            "|   |   |   |--- platelets_by_ds >  0.50\n",
            "|   |   |   |   |--- class: 0\n",
            "|   |--- ejection_fraction_by_ds >  0.50\n",
            "|   |   |--- serum_creatinine_by_ds <= 1.50\n",
            "|   |   |   |--- age_by_ds <= 1.50\n",
            "|   |   |   |   |--- class: 0\n",
            "|   |   |   |--- age_by_ds >  1.50\n",
            "|   |   |   |   |--- class: 0\n",
            "|   |   |--- serum_creatinine_by_ds >  1.50\n",
            "|   |   |   |--- class: 1\n",
            "\n"
          ],
          "name": "stdout"
        }
      ]
    },
    {
      "cell_type": "code",
      "metadata": {
        "id": "kDYzF_9jcTxB"
      },
      "source": [
        "from sklearn.tree import _tree\n",
        "\n",
        "def tree_to_code(tree, feature_names):\n",
        "    tree_ = tree.tree_\n",
        "    feature_name = [\n",
        "        feature_names[i] if i != _tree.TREE_UNDEFINED else \"undefined!\"\n",
        "        for i in tree_.feature\n",
        "    ]\n",
        "    feature_names = [f.replace(\" \", \"_\")[:-5] for f in feature_names]\n",
        "    print(\"def predict({}):\".format(\", \".join(feature_names)))\n",
        "\n",
        "    def recurse(node, depth):\n",
        "        indent = \"    \" * depth\n",
        "        if tree_.feature[node] != _tree.TREE_UNDEFINED:\n",
        "            name = feature_name[node]\n",
        "            threshold = tree_.threshold[node]\n",
        "            print(\"{}if {} <= {}:\".format(indent, name, np.round(threshold,2)))\n",
        "            recurse(tree_.children_left[node], depth + 1)\n",
        "            print(\"{}else:  # if {} > {}\".format(indent, name, np.round(threshold,2)))\n",
        "            recurse(tree_.children_right[node], depth + 1)\n",
        "        else:\n",
        "            print(\"{}return {}\".format(indent, tree_.value[node]))\n",
        "\n",
        "    recurse(0, 1)"
      ],
      "execution_count": 16,
      "outputs": []
    },
    {
      "cell_type": "code",
      "metadata": {
        "id": "Zte0JDNBchhY"
      },
      "source": [
        "def get_rules(tree, feature_names, class_names):\n",
        "    tree_ = tree.tree_\n",
        "    feature_name = [\n",
        "        feature_names[i] if i != _tree.TREE_UNDEFINED else \"undefined!\"\n",
        "        for i in tree_.feature\n",
        "    ]\n",
        "\n",
        "    paths = []\n",
        "    path = []\n",
        "    \n",
        "    def recurse(node, path, paths):\n",
        "        \n",
        "        if tree_.feature[node] != _tree.TREE_UNDEFINED:\n",
        "            name = feature_name[node]\n",
        "            threshold = tree_.threshold[node]\n",
        "            p1, p2 = list(path), list(path)\n",
        "            p1 += [f\"({name} <= {np.round(threshold, 3)})\"]\n",
        "            recurse(tree_.children_left[node], p1, paths)\n",
        "            p2 += [f\"({name} > {np.round(threshold, 3)})\"]\n",
        "            recurse(tree_.children_right[node], p2, paths)\n",
        "        else:\n",
        "            path += [(tree_.value[node], tree_.n_node_samples[node])]\n",
        "            paths += [path]\n",
        "            \n",
        "    recurse(0, path, paths)\n",
        "\n",
        "    # sort by samples count\n",
        "    samples_count = [p[-1][1] for p in paths]\n",
        "    ii = list(np.argsort(samples_count))\n",
        "    paths = [paths[i] for i in reversed(ii)]\n",
        "    \n",
        "    rules = []\n",
        "    for path in paths:\n",
        "        rule = \"if \"\n",
        "        \n",
        "        for p in path[:-1]:\n",
        "            if rule != \"if \":\n",
        "                rule += \" and \"\n",
        "            rule += str(p)\n",
        "        rule += \" then \"\n",
        "        if class_names is None:\n",
        "            rule += \"response: \"+str(np.round(path[-1][0][0][0],3))\n",
        "        else:\n",
        "            classes = path[-1][0][0]\n",
        "            l = np.argmax(classes)\n",
        "            rule += f\"class: {class_names[l]} (proba: {np.round(100.0*classes[l]/np.sum(classes),2)}%)\"\n",
        "        rule += f\" | based on {path[-1][1]:,} samples\"\n",
        "        rules += [rule]\n",
        "    #print(class)\n",
        "    return rules"
      ],
      "execution_count": 17,
      "outputs": []
    },
    {
      "cell_type": "code",
      "metadata": {
        "id": "jV_So9n0expZ",
        "colab": {
          "base_uri": "https://localhost:8080/"
        },
        "outputId": "06dfab08-1257-4537-d00f-af9bd99ca0c9"
      },
      "source": [
        "print(len(target_key))"
      ],
      "execution_count": 18,
      "outputs": [
        {
          "output_type": "stream",
          "text": [
            "6\n"
          ],
          "name": "stdout"
        }
      ]
    },
    {
      "cell_type": "code",
      "metadata": {
        "colab": {
          "base_uri": "https://localhost:8080/"
        },
        "id": "XTBAAuwKkUDw",
        "outputId": "2ff928b1-fb7f-412f-ac5e-933cd873e168"
      },
      "source": [
        "print(new_key)"
      ],
      "execution_count": 27,
      "outputs": [
        {
          "output_type": "stream",
          "text": [
            "['age_by_ds', 'creatinine_phosphokinase_by_ds', 'ejection_fraction_by_ds', 'serum_sodium_by_ds', 'serum_creatinine_by_ds', 'platelets_by_ds', 'time_by_ds']\n"
          ],
          "name": "stdout"
        }
      ]
    },
    {
      "cell_type": "code",
      "metadata": {
        "colab": {
          "base_uri": "https://localhost:8080/"
        },
        "id": "z2YmMOnXcqVi",
        "outputId": "3962ca79-fe41-4cd0-d076-50896d636d53"
      },
      "source": [
        "rules = get_rules(clf, new_key,'01' )\n",
        "for r in rules:\n",
        "    print(r)"
      ],
      "execution_count": 20,
      "outputs": [
        {
          "output_type": "stream",
          "text": [
            "if (time_by_ds > 0.5) and (ejection_fraction_by_ds > 0.5) and (serum_creatinine_by_ds <= 1.5) and (age_by_ds <= 1.5) then class: 0 (proba: 97.94%) | based on 97 samples\n",
            "if (time_by_ds <= 0.5) and (serum_sodium_by_ds > 0.5) and (ejection_fraction_by_ds > 0.5) and (serum_sodium_by_ds <= 1.5) then class: 0 (proba: 76.27%) | based on 59 samples\n",
            "if (time_by_ds <= 0.5) and (serum_sodium_by_ds > 0.5) and (ejection_fraction_by_ds <= 0.5) and (serum_sodium_by_ds <= 1.5) then class: 1 (proba: 63.64%) | based on 33 samples\n",
            "if (time_by_ds <= 0.5) and (serum_sodium_by_ds <= 0.5) and (creatinine_phosphokinase_by_ds <= 0.5) and (serum_creatinine_by_ds > 0.5) then class: 1 (proba: 91.67%) | based on 24 samples\n",
            "if (time_by_ds > 0.5) and (ejection_fraction_by_ds <= 0.5) and (serum_creatinine_by_ds <= 0.5) and (time_by_ds > 1.5) then class: 0 (proba: 93.75%) | based on 16 samples\n",
            "if (time_by_ds <= 0.5) and (serum_sodium_by_ds <= 0.5) and (creatinine_phosphokinase_by_ds <= 0.5) and (serum_creatinine_by_ds <= 0.5) then class: 1 (proba: 66.67%) | based on 15 samples\n",
            "if (time_by_ds > 0.5) and (ejection_fraction_by_ds > 0.5) and (serum_creatinine_by_ds <= 1.5) and (age_by_ds > 1.5) then class: 0 (proba: 75.0%) | based on 12 samples\n",
            "if (time_by_ds > 0.5) and (ejection_fraction_by_ds <= 0.5) and (serum_creatinine_by_ds > 0.5) and (platelets_by_ds > 0.5) then class: 0 (proba: 50.0%) | based on 12 samples\n",
            "if (time_by_ds <= 0.5) and (serum_sodium_by_ds > 0.5) and (ejection_fraction_by_ds > 0.5) and (serum_sodium_by_ds > 1.5) then class: 1 (proba: 54.55%) | based on 11 samples\n",
            "if (time_by_ds > 0.5) and (ejection_fraction_by_ds <= 0.5) and (serum_creatinine_by_ds <= 0.5) and (time_by_ds <= 1.5) then class: 1 (proba: 57.14%) | based on 7 samples\n",
            "if (time_by_ds <= 0.5) and (serum_sodium_by_ds > 0.5) and (ejection_fraction_by_ds <= 0.5) and (serum_sodium_by_ds > 1.5) then class: 0 (proba: 75.0%) | based on 4 samples\n",
            "if (time_by_ds > 0.5) and (ejection_fraction_by_ds <= 0.5) and (serum_creatinine_by_ds > 0.5) and (platelets_by_ds <= 0.5) then class: 1 (proba: 100.0%) | based on 3 samples\n",
            "if (time_by_ds <= 0.5) and (serum_sodium_by_ds <= 0.5) and (creatinine_phosphokinase_by_ds > 0.5) and (ejection_fraction_by_ds <= 1.5) then class: 1 (proba: 66.67%) | based on 3 samples\n",
            "if (time_by_ds <= 0.5) and (serum_sodium_by_ds <= 0.5) and (creatinine_phosphokinase_by_ds > 0.5) and (ejection_fraction_by_ds > 1.5) then class: 0 (proba: 100.0%) | based on 2 samples\n",
            "if (time_by_ds > 0.5) and (ejection_fraction_by_ds > 0.5) and (serum_creatinine_by_ds > 1.5) then class: 1 (proba: 100.0%) | based on 1 samples\n"
          ],
          "name": "stdout"
        }
      ]
    },
    {
      "cell_type": "code",
      "metadata": {
        "id": "zU3CSZywmt4O"
      },
      "source": [
        ""
      ],
      "execution_count": null,
      "outputs": []
    },
    {
      "cell_type": "code",
      "metadata": {
        "id": "BOi9P70tb-12"
      },
      "source": [
        "l=['age_by_ds', 'creatinine_phosphokinase_by_ds', 'ejection_fraction_by_ds', 'serum_sodium_by_ds', 'serum_creatinine_by_ds', 'platelets_by_ds', 'time_by_ds','DeathL']"
      ],
      "execution_count": 21,
      "outputs": []
    },
    {
      "cell_type": "code",
      "metadata": {
        "id": "cv58nOELcGfn"
      },
      "source": [
        "new_f=df[l]"
      ],
      "execution_count": 23,
      "outputs": []
    },
    {
      "cell_type": "code",
      "metadata": {
        "colab": {
          "base_uri": "https://localhost:8080/",
          "height": 437
        },
        "id": "Umq3YbprcZFa",
        "outputId": "9a3725f5-0839-42ef-fe6e-5c9e5732a2bb"
      },
      "source": [
        "(new_f)"
      ],
      "execution_count": 25,
      "outputs": [
        {
          "output_type": "execute_result",
          "data": {
            "text/html": [
              "<div>\n",
              "<style scoped>\n",
              "    .dataframe tbody tr th:only-of-type {\n",
              "        vertical-align: middle;\n",
              "    }\n",
              "\n",
              "    .dataframe tbody tr th {\n",
              "        vertical-align: top;\n",
              "    }\n",
              "\n",
              "    .dataframe thead th {\n",
              "        text-align: right;\n",
              "    }\n",
              "</style>\n",
              "<table border=\"1\" class=\"dataframe\">\n",
              "  <thead>\n",
              "    <tr style=\"text-align: right;\">\n",
              "      <th></th>\n",
              "      <th>age_by_ds</th>\n",
              "      <th>creatinine_phosphokinase_by_ds</th>\n",
              "      <th>ejection_fraction_by_ds</th>\n",
              "      <th>serum_sodium_by_ds</th>\n",
              "      <th>serum_creatinine_by_ds</th>\n",
              "      <th>platelets_by_ds</th>\n",
              "      <th>time_by_ds</th>\n",
              "      <th>DeathL</th>\n",
              "    </tr>\n",
              "  </thead>\n",
              "  <tbody>\n",
              "    <tr>\n",
              "      <th>0</th>\n",
              "      <td>2</td>\n",
              "      <td>0</td>\n",
              "      <td>0</td>\n",
              "      <td>0</td>\n",
              "      <td>1</td>\n",
              "      <td>1</td>\n",
              "      <td>0</td>\n",
              "      <td>1</td>\n",
              "    </tr>\n",
              "    <tr>\n",
              "      <th>1</th>\n",
              "      <td>0</td>\n",
              "      <td>2</td>\n",
              "      <td>1</td>\n",
              "      <td>1</td>\n",
              "      <td>0</td>\n",
              "      <td>1</td>\n",
              "      <td>0</td>\n",
              "      <td>1</td>\n",
              "    </tr>\n",
              "    <tr>\n",
              "      <th>2</th>\n",
              "      <td>1</td>\n",
              "      <td>0</td>\n",
              "      <td>0</td>\n",
              "      <td>0</td>\n",
              "      <td>0</td>\n",
              "      <td>0</td>\n",
              "      <td>0</td>\n",
              "      <td>1</td>\n",
              "    </tr>\n",
              "    <tr>\n",
              "      <th>3</th>\n",
              "      <td>0</td>\n",
              "      <td>0</td>\n",
              "      <td>0</td>\n",
              "      <td>1</td>\n",
              "      <td>1</td>\n",
              "      <td>1</td>\n",
              "      <td>0</td>\n",
              "      <td>1</td>\n",
              "    </tr>\n",
              "    <tr>\n",
              "      <th>4</th>\n",
              "      <td>1</td>\n",
              "      <td>0</td>\n",
              "      <td>0</td>\n",
              "      <td>0</td>\n",
              "      <td>1</td>\n",
              "      <td>1</td>\n",
              "      <td>0</td>\n",
              "      <td>1</td>\n",
              "    </tr>\n",
              "    <tr>\n",
              "      <th>...</th>\n",
              "      <td>...</td>\n",
              "      <td>...</td>\n",
              "      <td>...</td>\n",
              "      <td>...</td>\n",
              "      <td>...</td>\n",
              "      <td>...</td>\n",
              "      <td>...</td>\n",
              "      <td>...</td>\n",
              "    </tr>\n",
              "    <tr>\n",
              "      <th>294</th>\n",
              "      <td>1</td>\n",
              "      <td>0</td>\n",
              "      <td>1</td>\n",
              "      <td>2</td>\n",
              "      <td>0</td>\n",
              "      <td>0</td>\n",
              "      <td>2</td>\n",
              "      <td>0</td>\n",
              "    </tr>\n",
              "    <tr>\n",
              "      <th>295</th>\n",
              "      <td>0</td>\n",
              "      <td>1</td>\n",
              "      <td>1</td>\n",
              "      <td>1</td>\n",
              "      <td>0</td>\n",
              "      <td>1</td>\n",
              "      <td>2</td>\n",
              "      <td>0</td>\n",
              "    </tr>\n",
              "    <tr>\n",
              "      <th>296</th>\n",
              "      <td>0</td>\n",
              "      <td>1</td>\n",
              "      <td>2</td>\n",
              "      <td>1</td>\n",
              "      <td>0</td>\n",
              "      <td>2</td>\n",
              "      <td>2</td>\n",
              "      <td>0</td>\n",
              "    </tr>\n",
              "    <tr>\n",
              "      <th>297</th>\n",
              "      <td>0</td>\n",
              "      <td>1</td>\n",
              "      <td>1</td>\n",
              "      <td>1</td>\n",
              "      <td>1</td>\n",
              "      <td>0</td>\n",
              "      <td>2</td>\n",
              "      <td>0</td>\n",
              "    </tr>\n",
              "    <tr>\n",
              "      <th>298</th>\n",
              "      <td>0</td>\n",
              "      <td>0</td>\n",
              "      <td>2</td>\n",
              "      <td>1</td>\n",
              "      <td>1</td>\n",
              "      <td>2</td>\n",
              "      <td>2</td>\n",
              "      <td>0</td>\n",
              "    </tr>\n",
              "  </tbody>\n",
              "</table>\n",
              "<p>299 rows × 8 columns</p>\n",
              "</div>"
            ],
            "text/plain": [
              "     age_by_ds  creatinine_phosphokinase_by_ds  ...  time_by_ds  DeathL\n",
              "0            2                               0  ...           0       1\n",
              "1            0                               2  ...           0       1\n",
              "2            1                               0  ...           0       1\n",
              "3            0                               0  ...           0       1\n",
              "4            1                               0  ...           0       1\n",
              "..         ...                             ...  ...         ...     ...\n",
              "294          1                               0  ...           2       0\n",
              "295          0                               1  ...           2       0\n",
              "296          0                               1  ...           2       0\n",
              "297          0                               1  ...           2       0\n",
              "298          0                               0  ...           2       0\n",
              "\n",
              "[299 rows x 8 columns]"
            ]
          },
          "metadata": {
            "tags": []
          },
          "execution_count": 25
        }
      ]
    },
    {
      "cell_type": "code",
      "metadata": {
        "id": "ggFzbAXYm77N"
      },
      "source": [
        "new_f.to_csv('rule_ds.csv')"
      ],
      "execution_count": 26,
      "outputs": []
    }
  ]
}