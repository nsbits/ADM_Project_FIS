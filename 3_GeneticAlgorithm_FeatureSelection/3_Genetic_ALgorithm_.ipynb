{
  "nbformat": 4,
  "nbformat_minor": 0,
  "metadata": {
    "colab": {
      "name": "3_Genetic_ALgorithm_.ipynb",
      "provenance": []
    },
    "kernelspec": {
      "name": "python3",
      "display_name": "Python 3"
    }
  },
  "cells": [
    {
      "cell_type": "code",
      "metadata": {
        "id": "nnFWCG1sIAhb",
        "colab": {
          "base_uri": "https://localhost:8080/"
        },
        "outputId": "118f3c96-c18e-4907-cf62-1522c0edacad"
      },
      "source": [
        "# !pip install bayesian-optimization\n",
        "!pip install sklearn-genetic\n",
        "# !pip install sklearn-deap\n",
        "# !pip install shap\n",
        "# !pip install git+https://github.com/jundongl/scikit-feature\n",
        "# !pip install yellowbrick\n",
        "#!pip install -f http://h2o-release.s3.amazonaws.com/h2o/latest_stable_Py.html h2o\n",
        "!pip install pycaret-nightly\n",
        "\n"
      ],
      "execution_count": 1,
      "outputs": [
        {
          "output_type": "stream",
          "text": [
            "Collecting sklearn-genetic\n",
            "  Downloading https://files.pythonhosted.org/packages/3c/3b/8e384e1cab48a451c43fcaa2f2120dd6e8d2581e33e118a23a27de14267d/sklearn_genetic-0.4.1-py2.py3-none-any.whl\n",
            "Collecting deap>=1.0.2\n",
            "\u001b[?25l  Downloading https://files.pythonhosted.org/packages/99/d1/803c7a387d8a7e6866160b1541307f88d534da4291572fb32f69d2548afb/deap-1.3.1-cp37-cp37m-manylinux2010_x86_64.whl (157kB)\n",
            "\u001b[K     |████████████████████████████████| 163kB 5.1MB/s \n",
            "\u001b[?25hRequirement already satisfied: scikit-learn>=0.20.3 in /usr/local/lib/python3.7/dist-packages (from sklearn-genetic) (0.22.2.post1)\n",
            "Requirement already satisfied: numpy in /usr/local/lib/python3.7/dist-packages (from deap>=1.0.2->sklearn-genetic) (1.19.5)\n",
            "Requirement already satisfied: joblib>=0.11 in /usr/local/lib/python3.7/dist-packages (from scikit-learn>=0.20.3->sklearn-genetic) (1.0.1)\n",
            "Requirement already satisfied: scipy>=0.17.0 in /usr/local/lib/python3.7/dist-packages (from scikit-learn>=0.20.3->sklearn-genetic) (1.4.1)\n",
            "Installing collected packages: deap, sklearn-genetic\n",
            "Successfully installed deap-1.3.1 sklearn-genetic-0.4.1\n",
            "Collecting pycaret-nightly\n",
            "\u001b[?25l  Downloading https://files.pythonhosted.org/packages/ac/c6/f5b8518389cbb2d4d22df403601877d56f347212c3c3886d9448438eed99/pycaret_nightly-2.3.1.dev1623545063-py3-none-any.whl (263kB)\n",
            "\u001b[K     |████████████████████████████████| 266kB 6.7MB/s \n",
            "\u001b[?25hRequirement already satisfied: ipywidgets in /usr/local/lib/python3.7/dist-packages (from pycaret-nightly) (7.6.3)\n",
            "Collecting pyLDAvis\n",
            "\u001b[?25l  Downloading https://files.pythonhosted.org/packages/03/a5/15a0da6b0150b8b68610cc78af80364a80a9a4c8b6dd5ee549b8989d4b60/pyLDAvis-3.3.1.tar.gz (1.7MB)\n",
            "\u001b[K     |████████████████████████████████| 1.7MB 25.6MB/s \n",
            "\u001b[?25h  Installing build dependencies ... \u001b[?25l\u001b[?25hdone\n",
            "  Getting requirements to build wheel ... \u001b[?25l\u001b[?25hdone\n",
            "  Installing backend dependencies ... \u001b[?25l\u001b[?25hdone\n",
            "    Preparing wheel metadata ... \u001b[?25l\u001b[?25hdone\n",
            "Requirement already satisfied: nltk in /usr/local/lib/python3.7/dist-packages (from pycaret-nightly) (3.2.5)\n",
            "Collecting yellowbrick>=1.0.1\n",
            "\u001b[?25l  Downloading https://files.pythonhosted.org/packages/3a/15/58feb940b6a2f52d3335cccf9e5d00704ec5ba62782da83f7e2abeca5e4b/yellowbrick-1.3.post1-py3-none-any.whl (271kB)\n",
            "\u001b[K     |████████████████████████████████| 276kB 48.2MB/s \n",
            "\u001b[?25hCollecting lightgbm>=2.3.1\n",
            "\u001b[?25l  Downloading https://files.pythonhosted.org/packages/18/b2/fff8370f48549ce223f929fe8cab4ee6bf285a41f86037d91312b48ed95b/lightgbm-3.2.1-py3-none-manylinux1_x86_64.whl (2.0MB)\n",
            "\u001b[K     |████████████████████████████████| 2.0MB 20.3MB/s \n",
            "\u001b[?25hCollecting imbalanced-learn==0.7.0\n",
            "\u001b[?25l  Downloading https://files.pythonhosted.org/packages/c8/81/8db4d87b03b998fda7c6f835d807c9ae4e3b141f978597b8d7f31600be15/imbalanced_learn-0.7.0-py3-none-any.whl (167kB)\n",
            "\u001b[K     |████████████████████████████████| 174kB 45.2MB/s \n",
            "\u001b[?25hRequirement already satisfied: textblob in /usr/local/lib/python3.7/dist-packages (from pycaret-nightly) (0.15.3)\n",
            "Collecting scikit-learn==0.23.2\n",
            "\u001b[?25l  Downloading https://files.pythonhosted.org/packages/f4/cb/64623369f348e9bfb29ff898a57ac7c91ed4921f228e9726546614d63ccb/scikit_learn-0.23.2-cp37-cp37m-manylinux1_x86_64.whl (6.8MB)\n",
            "\u001b[K     |████████████████████████████████| 6.8MB 29.8MB/s \n",
            "\u001b[?25hCollecting pandas-profiling>=2.8.0\n",
            "\u001b[?25l  Downloading https://files.pythonhosted.org/packages/3b/a3/34519d16e5ebe69bad30c5526deea2c3912634ced7f9b5e6e0bb9dbbd567/pandas_profiling-3.0.0-py2.py3-none-any.whl (248kB)\n",
            "\u001b[K     |████████████████████████████████| 256kB 42.9MB/s \n",
            "\u001b[?25hRequirement already satisfied: wordcloud in /usr/local/lib/python3.7/dist-packages (from pycaret-nightly) (1.5.0)\n",
            "Collecting kmodes>=0.10.1\n",
            "  Downloading https://files.pythonhosted.org/packages/9b/34/fffc601aa4d44b94e945a7cc72f477e09dffa7dce888898f2ffd9f4e343e/kmodes-0.11.0-py2.py3-none-any.whl\n",
            "Requirement already satisfied: matplotlib in /usr/local/lib/python3.7/dist-packages (from pycaret-nightly) (3.2.2)\n",
            "Requirement already satisfied: joblib in /usr/local/lib/python3.7/dist-packages (from pycaret-nightly) (1.0.1)\n",
            "Requirement already satisfied: cufflinks>=0.17.0 in /usr/local/lib/python3.7/dist-packages (from pycaret-nightly) (0.17.3)\n",
            "Requirement already satisfied: gensim<4.0.0 in /usr/local/lib/python3.7/dist-packages (from pycaret-nightly) (3.6.0)\n",
            "Requirement already satisfied: plotly>=4.4.1 in /usr/local/lib/python3.7/dist-packages (from pycaret-nightly) (4.4.1)\n",
            "Collecting Boruta\n",
            "\u001b[?25l  Downloading https://files.pythonhosted.org/packages/b2/11/583f4eac99d802c79af9217e1eff56027742a69e6c866b295cce6a5a8fc2/Boruta-0.3-py3-none-any.whl (56kB)\n",
            "\u001b[K     |████████████████████████████████| 61kB 6.3MB/s \n",
            "\u001b[?25hCollecting mlxtend>=0.17.0\n",
            "\u001b[?25l  Downloading https://files.pythonhosted.org/packages/86/30/781c0b962a70848db83339567ecab656638c62f05adb064cb33c0ae49244/mlxtend-0.18.0-py2.py3-none-any.whl (1.3MB)\n",
            "\u001b[K     |████████████████████████████████| 1.4MB 29.7MB/s \n",
            "\u001b[?25hRequirement already satisfied: pandas in /usr/local/lib/python3.7/dist-packages (from pycaret-nightly) (1.1.5)\n",
            "Requirement already satisfied: scipy<=1.5.4 in /usr/local/lib/python3.7/dist-packages (from pycaret-nightly) (1.4.1)\n",
            "Requirement already satisfied: numpy==1.19.5 in /usr/local/lib/python3.7/dist-packages (from pycaret-nightly) (1.19.5)\n",
            "Collecting mlflow\n",
            "\u001b[?25l  Downloading https://files.pythonhosted.org/packages/78/95/66f2e43a3662b27409fdce1775e1fbe8fdb5557140467d9e6654a87cc22e/mlflow-1.17.0-py3-none-any.whl (14.2MB)\n",
            "\u001b[K     |████████████████████████████████| 14.2MB 286kB/s \n",
            "\u001b[?25hRequirement already satisfied: IPython in /usr/local/lib/python3.7/dist-packages (from pycaret-nightly) (5.5.0)\n",
            "Collecting pyod\n",
            "\u001b[?25l  Downloading https://files.pythonhosted.org/packages/81/dd/1cef53031ad8926df628e78d7cc9d57bb2aee62bc2f66215b2bef4deae64/pyod-0.8.9.tar.gz (104kB)\n",
            "\u001b[K     |████████████████████████████████| 112kB 54.0MB/s \n",
            "\u001b[?25hCollecting scikit-plot\n",
            "  Downloading https://files.pythonhosted.org/packages/7c/47/32520e259340c140a4ad27c1b97050dd3254fdc517b1d59974d47037510e/scikit_plot-0.3.7-py3-none-any.whl\n",
            "Requirement already satisfied: seaborn in /usr/local/lib/python3.7/dist-packages (from pycaret-nightly) (0.11.1)\n",
            "Collecting umap-learn\n",
            "\u001b[?25l  Downloading https://files.pythonhosted.org/packages/75/69/85e7f950bb75792ad5d666d86c5f3e62eedbb942848e7e3126513af9999c/umap-learn-0.5.1.tar.gz (80kB)\n",
            "\u001b[K     |████████████████████████████████| 81kB 8.7MB/s \n",
            "\u001b[?25hRequirement already satisfied: spacy<2.4.0 in /usr/local/lib/python3.7/dist-packages (from pycaret-nightly) (2.2.4)\n",
            "Requirement already satisfied: ipykernel>=4.5.1 in /usr/local/lib/python3.7/dist-packages (from ipywidgets->pycaret-nightly) (4.10.1)\n",
            "Requirement already satisfied: traitlets>=4.3.1 in /usr/local/lib/python3.7/dist-packages (from ipywidgets->pycaret-nightly) (5.0.5)\n",
            "Requirement already satisfied: jupyterlab-widgets>=1.0.0; python_version >= \"3.6\" in /usr/local/lib/python3.7/dist-packages (from ipywidgets->pycaret-nightly) (1.0.0)\n",
            "Requirement already satisfied: nbformat>=4.2.0 in /usr/local/lib/python3.7/dist-packages (from ipywidgets->pycaret-nightly) (5.1.3)\n",
            "Requirement already satisfied: widgetsnbextension~=3.5.0 in /usr/local/lib/python3.7/dist-packages (from ipywidgets->pycaret-nightly) (3.5.1)\n",
            "Requirement already satisfied: sklearn in /usr/local/lib/python3.7/dist-packages (from pyLDAvis->pycaret-nightly) (0.0)\n",
            "Requirement already satisfied: numexpr in /usr/local/lib/python3.7/dist-packages (from pyLDAvis->pycaret-nightly) (2.7.3)\n",
            "Requirement already satisfied: setuptools in /usr/local/lib/python3.7/dist-packages (from pyLDAvis->pycaret-nightly) (57.0.0)\n",
            "Requirement already satisfied: jinja2 in /usr/local/lib/python3.7/dist-packages (from pyLDAvis->pycaret-nightly) (2.11.3)\n",
            "Requirement already satisfied: future in /usr/local/lib/python3.7/dist-packages (from pyLDAvis->pycaret-nightly) (0.16.0)\n",
            "Collecting funcy\n",
            "  Downloading https://files.pythonhosted.org/packages/44/52/5cf7401456a461e4b481650dfb8279bc000f31a011d0918904f86e755947/funcy-1.16-py2.py3-none-any.whl\n",
            "Requirement already satisfied: six in /usr/local/lib/python3.7/dist-packages (from nltk->pycaret-nightly) (1.15.0)\n",
            "Requirement already satisfied: cycler>=0.10.0 in /usr/local/lib/python3.7/dist-packages (from yellowbrick>=1.0.1->pycaret-nightly) (0.10.0)\n",
            "Requirement already satisfied: wheel in /usr/local/lib/python3.7/dist-packages (from lightgbm>=2.3.1->pycaret-nightly) (0.36.2)\n",
            "Collecting threadpoolctl>=2.0.0\n",
            "  Downloading https://files.pythonhosted.org/packages/f7/12/ec3f2e203afa394a149911729357aa48affc59c20e2c1c8297a60f33f133/threadpoolctl-2.1.0-py3-none-any.whl\n",
            "Collecting tangled-up-in-unicode==0.1.0\n",
            "\u001b[?25l  Downloading https://files.pythonhosted.org/packages/93/3e/cb354fb2097fcf2fd5b5a342b10ae2a6e9363ba435b64e3e00c414064bc7/tangled_up_in_unicode-0.1.0-py3-none-any.whl (3.1MB)\n",
            "\u001b[K     |████████████████████████████████| 3.1MB 15.0MB/s \n",
            "\u001b[?25hCollecting requests>=2.24.0\n",
            "\u001b[?25l  Downloading https://files.pythonhosted.org/packages/29/c1/24814557f1d22c56d50280771a17307e6bf87b70727d975fd6b2ce6b014a/requests-2.25.1-py2.py3-none-any.whl (61kB)\n",
            "\u001b[K     |████████████████████████████████| 61kB 6.2MB/s \n",
            "\u001b[?25hRequirement already satisfied: missingno>=0.4.2 in /usr/local/lib/python3.7/dist-packages (from pandas-profiling>=2.8.0->pycaret-nightly) (0.4.2)\n",
            "Collecting htmlmin>=0.1.12\n",
            "  Downloading https://files.pythonhosted.org/packages/b3/e7/fcd59e12169de19f0131ff2812077f964c6b960e7c09804d30a7bf2ab461/htmlmin-0.1.12.tar.gz\n",
            "Collecting tqdm>=4.48.2\n",
            "\u001b[?25l  Downloading https://files.pythonhosted.org/packages/b4/20/9f1e974bb4761128fc0d0a32813eaa92827309b1756c4b892d28adfb4415/tqdm-4.61.1-py2.py3-none-any.whl (75kB)\n",
            "\u001b[K     |████████████████████████████████| 81kB 8.8MB/s \n",
            "\u001b[?25hCollecting phik>=0.11.1\n",
            "\u001b[?25l  Downloading https://files.pythonhosted.org/packages/b7/ce/193e8ddf62d4be643b9b4b20e8e9c63b2f6a20f92778c0410c629f89bdaa/phik-0.11.2.tar.gz (1.1MB)\n",
            "\u001b[K     |████████████████████████████████| 1.1MB 31.9MB/s \n",
            "\u001b[?25hCollecting PyYAML>=5.0.0\n",
            "\u001b[?25l  Downloading https://files.pythonhosted.org/packages/7a/a5/393c087efdc78091afa2af9f1378762f9821c9c1d7a22c5753fb5ac5f97a/PyYAML-5.4.1-cp37-cp37m-manylinux1_x86_64.whl (636kB)\n",
            "\u001b[K     |████████████████████████████████| 645kB 35.1MB/s \n",
            "\u001b[?25hCollecting pydantic>=1.8.1\n",
            "\u001b[?25l  Downloading https://files.pythonhosted.org/packages/9f/f2/2d5425efe57f6c4e06cbe5e587c1fd16929dcf0eb90bd4d3d1e1c97d1151/pydantic-1.8.2-cp37-cp37m-manylinux2014_x86_64.whl (10.1MB)\n",
            "\u001b[K     |████████████████████████████████| 10.1MB 26.7MB/s \n",
            "\u001b[?25hCollecting visions[type_image_path]==0.7.1\n",
            "\u001b[?25l  Downloading https://files.pythonhosted.org/packages/80/96/01e4ba22cef96ae5035dbcf0451c2f4f859f8f17393b98406b23f0034279/visions-0.7.1-py3-none-any.whl (102kB)\n",
            "\u001b[K     |████████████████████████████████| 112kB 34.9MB/s \n",
            "\u001b[?25hRequirement already satisfied: pillow in /usr/local/lib/python3.7/dist-packages (from wordcloud->pycaret-nightly) (7.1.2)\n",
            "Requirement already satisfied: pyparsing!=2.0.4,!=2.1.2,!=2.1.6,>=2.0.1 in /usr/local/lib/python3.7/dist-packages (from matplotlib->pycaret-nightly) (2.4.7)\n",
            "Requirement already satisfied: python-dateutil>=2.1 in /usr/local/lib/python3.7/dist-packages (from matplotlib->pycaret-nightly) (2.8.1)\n",
            "Requirement already satisfied: kiwisolver>=1.0.1 in /usr/local/lib/python3.7/dist-packages (from matplotlib->pycaret-nightly) (1.3.1)\n",
            "Requirement already satisfied: colorlover>=0.2.1 in /usr/local/lib/python3.7/dist-packages (from cufflinks>=0.17.0->pycaret-nightly) (0.3.0)\n",
            "Requirement already satisfied: smart-open>=1.2.1 in /usr/local/lib/python3.7/dist-packages (from gensim<4.0.0->pycaret-nightly) (5.0.0)\n",
            "Requirement already satisfied: retrying>=1.3.3 in /usr/local/lib/python3.7/dist-packages (from plotly>=4.4.1->pycaret-nightly) (1.3.3)\n",
            "Requirement already satisfied: pytz>=2017.2 in /usr/local/lib/python3.7/dist-packages (from pandas->pycaret-nightly) (2018.9)\n",
            "Collecting prometheus-flask-exporter\n",
            "  Downloading https://files.pythonhosted.org/packages/f3/c1/2cc385fadf18dc75fe24c18899269eda4dcc60221d61eff7da4a6cc5c01d/prometheus_flask_exporter-0.18.2.tar.gz\n",
            "Requirement already satisfied: entrypoints in /usr/local/lib/python3.7/dist-packages (from mlflow->pycaret-nightly) (0.3)\n",
            "Collecting querystring-parser\n",
            "  Downloading https://files.pythonhosted.org/packages/88/6b/572b2590fd55114118bf08bde63c0a421dcc82d593700f3e2ad89908a8a9/querystring_parser-1.2.4-py2.py3-none-any.whl\n",
            "Requirement already satisfied: cloudpickle in /usr/local/lib/python3.7/dist-packages (from mlflow->pycaret-nightly) (1.3.0)\n",
            "Requirement already satisfied: click>=7.0 in /usr/local/lib/python3.7/dist-packages (from mlflow->pycaret-nightly) (7.1.2)\n",
            "Collecting docker>=4.0.0\n",
            "\u001b[?25l  Downloading https://files.pythonhosted.org/packages/b2/5a/f988909dfed18c1ac42ad8d9e611e6c5657e270aa6eb68559985dbb69c13/docker-5.0.0-py2.py3-none-any.whl (146kB)\n",
            "\u001b[K     |████████████████████████████████| 153kB 28.2MB/s \n",
            "\u001b[?25hRequirement already satisfied: Flask in /usr/local/lib/python3.7/dist-packages (from mlflow->pycaret-nightly) (1.1.4)\n",
            "Requirement already satisfied: sqlparse>=0.3.1 in /usr/local/lib/python3.7/dist-packages (from mlflow->pycaret-nightly) (0.4.1)\n",
            "Collecting gunicorn; platform_system != \"Windows\"\n",
            "\u001b[?25l  Downloading https://files.pythonhosted.org/packages/e4/dd/5b190393e6066286773a67dfcc2f9492058e9b57c4867a95f1ba5caf0a83/gunicorn-20.1.0-py3-none-any.whl (79kB)\n",
            "\u001b[K     |████████████████████████████████| 81kB 8.3MB/s \n",
            "\u001b[?25hRequirement already satisfied: sqlalchemy in /usr/local/lib/python3.7/dist-packages (from mlflow->pycaret-nightly) (1.4.15)\n",
            "Collecting databricks-cli>=0.8.7\n",
            "\u001b[?25l  Downloading https://files.pythonhosted.org/packages/bc/af/631375abc29e59cedfa4467a5f7755503ba19898890751e1f2636ef02f92/databricks-cli-0.14.3.tar.gz (54kB)\n",
            "\u001b[K     |████████████████████████████████| 61kB 5.9MB/s \n",
            "\u001b[?25hCollecting alembic<=1.4.1\n",
            "\u001b[?25l  Downloading https://files.pythonhosted.org/packages/e0/e9/359dbb77c35c419df0aedeb1d53e71e7e3f438ff64a8fdb048c907404de3/alembic-1.4.1.tar.gz (1.1MB)\n",
            "\u001b[K     |████████████████████████████████| 1.1MB 27.9MB/s \n",
            "\u001b[?25hRequirement already satisfied: protobuf>=3.6.0 in /usr/local/lib/python3.7/dist-packages (from mlflow->pycaret-nightly) (3.12.4)\n",
            "Collecting gitpython>=2.1.0\n",
            "\u001b[?25l  Downloading https://files.pythonhosted.org/packages/27/da/6f6224fdfc47dab57881fe20c0d1bc3122be290198ba0bf26a953a045d92/GitPython-3.1.17-py3-none-any.whl (166kB)\n",
            "\u001b[K     |████████████████████████████████| 174kB 42.9MB/s \n",
            "\u001b[?25hRequirement already satisfied: decorator in /usr/local/lib/python3.7/dist-packages (from IPython->pycaret-nightly) (4.4.2)\n",
            "Requirement already satisfied: simplegeneric>0.8 in /usr/local/lib/python3.7/dist-packages (from IPython->pycaret-nightly) (0.8.1)\n",
            "Requirement already satisfied: pygments in /usr/local/lib/python3.7/dist-packages (from IPython->pycaret-nightly) (2.6.1)\n",
            "Requirement already satisfied: pexpect; sys_platform != \"win32\" in /usr/local/lib/python3.7/dist-packages (from IPython->pycaret-nightly) (4.8.0)\n",
            "Requirement already satisfied: pickleshare in /usr/local/lib/python3.7/dist-packages (from IPython->pycaret-nightly) (0.7.5)\n",
            "Requirement already satisfied: prompt-toolkit<2.0.0,>=1.0.4 in /usr/local/lib/python3.7/dist-packages (from IPython->pycaret-nightly) (1.0.18)\n",
            "Requirement already satisfied: numba>=0.35 in /usr/local/lib/python3.7/dist-packages (from pyod->pycaret-nightly) (0.51.2)\n",
            "Requirement already satisfied: statsmodels in /usr/local/lib/python3.7/dist-packages (from pyod->pycaret-nightly) (0.10.2)\n",
            "Collecting pynndescent>=0.5\n",
            "\u001b[?25l  Downloading https://files.pythonhosted.org/packages/af/65/8189298dd3a05bbad716ee8e249764ff8800e365d8dc652ad2192ca01b4a/pynndescent-0.5.2.tar.gz (1.1MB)\n",
            "\u001b[K     |████████████████████████████████| 1.2MB 25.8MB/s \n",
            "\u001b[?25hRequirement already satisfied: preshed<3.1.0,>=3.0.2 in /usr/local/lib/python3.7/dist-packages (from spacy<2.4.0->pycaret-nightly) (3.0.5)\n",
            "Requirement already satisfied: murmurhash<1.1.0,>=0.28.0 in /usr/local/lib/python3.7/dist-packages (from spacy<2.4.0->pycaret-nightly) (1.0.5)\n",
            "Requirement already satisfied: srsly<1.1.0,>=1.0.2 in /usr/local/lib/python3.7/dist-packages (from spacy<2.4.0->pycaret-nightly) (1.0.5)\n",
            "Requirement already satisfied: plac<1.2.0,>=0.9.6 in /usr/local/lib/python3.7/dist-packages (from spacy<2.4.0->pycaret-nightly) (1.1.3)\n",
            "Requirement already satisfied: cymem<2.1.0,>=2.0.2 in /usr/local/lib/python3.7/dist-packages (from spacy<2.4.0->pycaret-nightly) (2.0.5)\n",
            "Requirement already satisfied: catalogue<1.1.0,>=0.0.7 in /usr/local/lib/python3.7/dist-packages (from spacy<2.4.0->pycaret-nightly) (1.0.0)\n",
            "Requirement already satisfied: wasabi<1.1.0,>=0.4.0 in /usr/local/lib/python3.7/dist-packages (from spacy<2.4.0->pycaret-nightly) (0.8.2)\n",
            "Requirement already satisfied: thinc==7.4.0 in /usr/local/lib/python3.7/dist-packages (from spacy<2.4.0->pycaret-nightly) (7.4.0)\n",
            "Requirement already satisfied: blis<0.5.0,>=0.4.0 in /usr/local/lib/python3.7/dist-packages (from spacy<2.4.0->pycaret-nightly) (0.4.1)\n",
            "Requirement already satisfied: jupyter-client in /usr/local/lib/python3.7/dist-packages (from ipykernel>=4.5.1->ipywidgets->pycaret-nightly) (5.3.5)\n",
            "Requirement already satisfied: tornado>=4.0 in /usr/local/lib/python3.7/dist-packages (from ipykernel>=4.5.1->ipywidgets->pycaret-nightly) (5.1.1)\n",
            "Requirement already satisfied: ipython-genutils in /usr/local/lib/python3.7/dist-packages (from traitlets>=4.3.1->ipywidgets->pycaret-nightly) (0.2.0)\n",
            "Requirement already satisfied: jsonschema!=2.5.0,>=2.4 in /usr/local/lib/python3.7/dist-packages (from nbformat>=4.2.0->ipywidgets->pycaret-nightly) (2.6.0)\n",
            "Requirement already satisfied: jupyter-core in /usr/local/lib/python3.7/dist-packages (from nbformat>=4.2.0->ipywidgets->pycaret-nightly) (4.7.1)\n",
            "Requirement already satisfied: notebook>=4.4.1 in /usr/local/lib/python3.7/dist-packages (from widgetsnbextension~=3.5.0->ipywidgets->pycaret-nightly) (5.3.1)\n",
            "Requirement already satisfied: MarkupSafe>=0.23 in /usr/local/lib/python3.7/dist-packages (from jinja2->pyLDAvis->pycaret-nightly) (2.0.1)\n",
            "Requirement already satisfied: chardet<5,>=3.0.2 in /usr/local/lib/python3.7/dist-packages (from requests>=2.24.0->pandas-profiling>=2.8.0->pycaret-nightly) (3.0.4)\n",
            "Requirement already satisfied: certifi>=2017.4.17 in /usr/local/lib/python3.7/dist-packages (from requests>=2.24.0->pandas-profiling>=2.8.0->pycaret-nightly) (2020.12.5)\n",
            "Requirement already satisfied: urllib3<1.27,>=1.21.1 in /usr/local/lib/python3.7/dist-packages (from requests>=2.24.0->pandas-profiling>=2.8.0->pycaret-nightly) (1.24.3)\n",
            "Requirement already satisfied: idna<3,>=2.5 in /usr/local/lib/python3.7/dist-packages (from requests>=2.24.0->pandas-profiling>=2.8.0->pycaret-nightly) (2.10)\n",
            "Requirement already satisfied: typing-extensions>=3.7.4.3 in /usr/local/lib/python3.7/dist-packages (from pydantic>=1.8.1->pandas-profiling>=2.8.0->pycaret-nightly) (3.7.4.3)\n",
            "Collecting multimethod==1.4\n",
            "  Downloading https://files.pythonhosted.org/packages/7a/d0/ce5ad0392aa12645b7ad91a5983d6b625b704b021d9cd48c587630c1a9ac/multimethod-1.4-py2.py3-none-any.whl\n",
            "Requirement already satisfied: networkx>=2.4 in /usr/local/lib/python3.7/dist-packages (from visions[type_image_path]==0.7.1->pandas-profiling>=2.8.0->pycaret-nightly) (2.5.1)\n",
            "Requirement already satisfied: attrs>=19.3.0 in /usr/local/lib/python3.7/dist-packages (from visions[type_image_path]==0.7.1->pandas-profiling>=2.8.0->pycaret-nightly) (21.2.0)\n",
            "Requirement already satisfied: bottleneck in /usr/local/lib/python3.7/dist-packages (from visions[type_image_path]==0.7.1->pandas-profiling>=2.8.0->pycaret-nightly) (1.3.2)\n",
            "Collecting imagehash; extra == \"type_image_path\"\n",
            "\u001b[?25l  Downloading https://files.pythonhosted.org/packages/8e/18/9dbb772b5ef73a3069c66bb5bf29b9fb4dd57af0d5790c781c3f559bcca6/ImageHash-4.2.0-py2.py3-none-any.whl (295kB)\n",
            "\u001b[K     |████████████████████████████████| 296kB 51.3MB/s \n",
            "\u001b[?25hRequirement already satisfied: prometheus_client in /usr/local/lib/python3.7/dist-packages (from prometheus-flask-exporter->mlflow->pycaret-nightly) (0.10.1)\n",
            "Collecting websocket-client>=0.32.0\n",
            "\u001b[?25l  Downloading https://files.pythonhosted.org/packages/ca/5f/3c211d168b2e9f9342cfb53bcfc26aab0eac63b998015e7af7bcae66119d/websocket_client-1.1.0-py2.py3-none-any.whl (68kB)\n",
            "\u001b[K     |████████████████████████████████| 71kB 7.7MB/s \n",
            "\u001b[?25hRequirement already satisfied: Werkzeug<2.0,>=0.15 in /usr/local/lib/python3.7/dist-packages (from Flask->mlflow->pycaret-nightly) (1.0.1)\n",
            "Requirement already satisfied: itsdangerous<2.0,>=0.24 in /usr/local/lib/python3.7/dist-packages (from Flask->mlflow->pycaret-nightly) (1.1.0)\n",
            "Requirement already satisfied: greenlet!=0.4.17; python_version >= \"3\" in /usr/local/lib/python3.7/dist-packages (from sqlalchemy->mlflow->pycaret-nightly) (1.1.0)\n",
            "Requirement already satisfied: importlib-metadata; python_version < \"3.8\" in /usr/local/lib/python3.7/dist-packages (from sqlalchemy->mlflow->pycaret-nightly) (4.0.1)\n",
            "Requirement already satisfied: tabulate>=0.7.7 in /usr/local/lib/python3.7/dist-packages (from databricks-cli>=0.8.7->mlflow->pycaret-nightly) (0.8.9)\n",
            "Collecting Mako\n",
            "\u001b[?25l  Downloading https://files.pythonhosted.org/packages/f3/54/dbc07fbb20865d3b78fdb7cf7fa713e2cba4f87f71100074ef2dc9f9d1f7/Mako-1.1.4-py2.py3-none-any.whl (75kB)\n",
            "\u001b[K     |████████████████████████████████| 81kB 8.3MB/s \n",
            "\u001b[?25hCollecting python-editor>=0.3\n",
            "  Downloading https://files.pythonhosted.org/packages/c6/d3/201fc3abe391bbae6606e6f1d598c15d367033332bd54352b12f35513717/python_editor-1.0.4-py3-none-any.whl\n",
            "Collecting gitdb<5,>=4.0.1\n",
            "\u001b[?25l  Downloading https://files.pythonhosted.org/packages/ea/e8/f414d1a4f0bbc668ed441f74f44c116d9816833a48bf81d22b697090dba8/gitdb-4.0.7-py3-none-any.whl (63kB)\n",
            "\u001b[K     |████████████████████████████████| 71kB 8.4MB/s \n",
            "\u001b[?25hRequirement already satisfied: ptyprocess>=0.5 in /usr/local/lib/python3.7/dist-packages (from pexpect; sys_platform != \"win32\"->IPython->pycaret-nightly) (0.7.0)\n",
            "Requirement already satisfied: wcwidth in /usr/local/lib/python3.7/dist-packages (from prompt-toolkit<2.0.0,>=1.0.4->IPython->pycaret-nightly) (0.2.5)\n",
            "Requirement already satisfied: llvmlite<0.35,>=0.34.0.dev0 in /usr/local/lib/python3.7/dist-packages (from numba>=0.35->pyod->pycaret-nightly) (0.34.0)\n",
            "Requirement already satisfied: patsy>=0.4.0 in /usr/local/lib/python3.7/dist-packages (from statsmodels->pyod->pycaret-nightly) (0.5.1)\n",
            "Requirement already satisfied: pyzmq>=13 in /usr/local/lib/python3.7/dist-packages (from jupyter-client->ipykernel>=4.5.1->ipywidgets->pycaret-nightly) (22.0.3)\n",
            "Requirement already satisfied: Send2Trash in /usr/local/lib/python3.7/dist-packages (from notebook>=4.4.1->widgetsnbextension~=3.5.0->ipywidgets->pycaret-nightly) (1.5.0)\n",
            "Requirement already satisfied: terminado>=0.8.1 in /usr/local/lib/python3.7/dist-packages (from notebook>=4.4.1->widgetsnbextension~=3.5.0->ipywidgets->pycaret-nightly) (0.10.0)\n",
            "Requirement already satisfied: nbconvert in /usr/local/lib/python3.7/dist-packages (from notebook>=4.4.1->widgetsnbextension~=3.5.0->ipywidgets->pycaret-nightly) (5.6.1)\n",
            "Requirement already satisfied: PyWavelets in /usr/local/lib/python3.7/dist-packages (from imagehash; extra == \"type_image_path\"->visions[type_image_path]==0.7.1->pandas-profiling>=2.8.0->pycaret-nightly) (1.1.1)\n",
            "Requirement already satisfied: zipp>=0.5 in /usr/local/lib/python3.7/dist-packages (from importlib-metadata; python_version < \"3.8\"->sqlalchemy->mlflow->pycaret-nightly) (3.4.1)\n",
            "Collecting smmap<5,>=3.0.1\n",
            "  Downloading https://files.pythonhosted.org/packages/68/ee/d540eb5e5996eb81c26ceffac6ee49041d473bc5125f2aa995cf51ec1cf1/smmap-4.0.0-py2.py3-none-any.whl\n",
            "Requirement already satisfied: bleach in /usr/local/lib/python3.7/dist-packages (from nbconvert->notebook>=4.4.1->widgetsnbextension~=3.5.0->ipywidgets->pycaret-nightly) (3.3.0)\n",
            "Requirement already satisfied: defusedxml in /usr/local/lib/python3.7/dist-packages (from nbconvert->notebook>=4.4.1->widgetsnbextension~=3.5.0->ipywidgets->pycaret-nightly) (0.7.1)\n",
            "Requirement already satisfied: pandocfilters>=1.4.1 in /usr/local/lib/python3.7/dist-packages (from nbconvert->notebook>=4.4.1->widgetsnbextension~=3.5.0->ipywidgets->pycaret-nightly) (1.4.3)\n",
            "Requirement already satisfied: mistune<2,>=0.8.1 in /usr/local/lib/python3.7/dist-packages (from nbconvert->notebook>=4.4.1->widgetsnbextension~=3.5.0->ipywidgets->pycaret-nightly) (0.8.4)\n",
            "Requirement already satisfied: testpath in /usr/local/lib/python3.7/dist-packages (from nbconvert->notebook>=4.4.1->widgetsnbextension~=3.5.0->ipywidgets->pycaret-nightly) (0.5.0)\n",
            "Requirement already satisfied: packaging in /usr/local/lib/python3.7/dist-packages (from bleach->nbconvert->notebook>=4.4.1->widgetsnbextension~=3.5.0->ipywidgets->pycaret-nightly) (20.9)\n",
            "Requirement already satisfied: webencodings in /usr/local/lib/python3.7/dist-packages (from bleach->nbconvert->notebook>=4.4.1->widgetsnbextension~=3.5.0->ipywidgets->pycaret-nightly) (0.5.1)\n",
            "Building wheels for collected packages: pyLDAvis\n",
            "  Building wheel for pyLDAvis (PEP 517) ... \u001b[?25l\u001b[?25hdone\n",
            "  Created wheel for pyLDAvis: filename=pyLDAvis-3.3.1-cp37-none-any.whl size=136897 sha256=01f7518e80e0b810e3f9261256b8ada69b177ea90d9057e5a2f8feb0041bc365\n",
            "  Stored in directory: /root/.cache/pip/wheels/a0/9c/fc/c6e00689d35c82cf96a8adc70edfe7ba7904374fdac3240ac2\n",
            "Successfully built pyLDAvis\n",
            "Building wheels for collected packages: pyod, umap-learn, htmlmin, phik, prometheus-flask-exporter, databricks-cli, alembic, pynndescent\n",
            "  Building wheel for pyod (setup.py) ... \u001b[?25l\u001b[?25hdone\n",
            "  Created wheel for pyod: filename=pyod-0.8.9-cp37-none-any.whl size=121413 sha256=7ec97cd721966d02397ba263e203845342184d2755d3f132d66058b8d4ba7fed\n",
            "  Stored in directory: /root/.cache/pip/wheels/9b/31/18/f12932b880f1ce4c181cbe51454ddaaa02665ad7cfc663f639\n",
            "  Building wheel for umap-learn (setup.py) ... \u001b[?25l\u001b[?25hdone\n",
            "  Created wheel for umap-learn: filename=umap_learn-0.5.1-cp37-none-any.whl size=76569 sha256=01e3eae7bf43c27d3f619553c3c09802ea1e98cbdc3411c409624646bcee7865\n",
            "  Stored in directory: /root/.cache/pip/wheels/ad/df/d5/a3691296ff779f25cd1cf415a3af954b987fb53111e3392cf4\n",
            "  Building wheel for htmlmin (setup.py) ... \u001b[?25l\u001b[?25hdone\n",
            "  Created wheel for htmlmin: filename=htmlmin-0.1.12-cp37-none-any.whl size=27099 sha256=61dae4cef883b2f3807a816e84af1e75a02a8181a6d3754487fb22d9ec9ae046\n",
            "  Stored in directory: /root/.cache/pip/wheels/43/07/ac/7c5a9d708d65247ac1f94066cf1db075540b85716c30255459\n",
            "  Building wheel for phik (setup.py) ... \u001b[?25l\u001b[?25hdone\n",
            "  Created wheel for phik: filename=phik-0.11.2-cp37-none-any.whl size=1107437 sha256=0b644ef5cd0a7b0eb82cfbe7eba6ba10fc31af6b68ab378c782f4eff1707cfce\n",
            "  Stored in directory: /root/.cache/pip/wheels/c0/a3/b0/f27b1cfe32ea131a3715169132ff6d85653789e80e966c3bf6\n",
            "  Building wheel for prometheus-flask-exporter (setup.py) ... \u001b[?25l\u001b[?25hdone\n",
            "  Created wheel for prometheus-flask-exporter: filename=prometheus_flask_exporter-0.18.2-cp37-none-any.whl size=17415 sha256=42c3e90c06c445ebe7ebd7ae046671cb9ca296ccb662950b3d77dfb70962eaa9\n",
            "  Stored in directory: /root/.cache/pip/wheels/c0/e2/9c/4f3ee23964802940f81a8b476d0b9be6fb6348cb12df2e2226\n",
            "  Building wheel for databricks-cli (setup.py) ... \u001b[?25l\u001b[?25hdone\n",
            "  Created wheel for databricks-cli: filename=databricks_cli-0.14.3-cp37-none-any.whl size=100560 sha256=a77ea1512506c102cf379a4e731bc3027c5bfd2ccd21ed1497872c96a8b7a501\n",
            "  Stored in directory: /root/.cache/pip/wheels/5b/24/f3/34d8e3964dac4ba849d844273c49a679111b00d5799ebb934a\n",
            "  Building wheel for alembic (setup.py) ... \u001b[?25l\u001b[?25hdone\n",
            "  Created wheel for alembic: filename=alembic-1.4.1-py2.py3-none-any.whl size=158170 sha256=119364457df6ca018d7113205a842fee3957773bf0a3b22568c351829b1f5fad\n",
            "  Stored in directory: /root/.cache/pip/wheels/84/07/f7/12f7370ca47a66030c2edeedcc23dec26ea0ac22dcb4c4a0f3\n",
            "  Building wheel for pynndescent (setup.py) ... \u001b[?25l\u001b[?25hdone\n",
            "  Created wheel for pynndescent: filename=pynndescent-0.5.2-cp37-none-any.whl size=51362 sha256=eb5ce716f4fb0cd76c5e3083aaf250cf07298aec8c46955ded7f6c597ceed3b5\n",
            "  Stored in directory: /root/.cache/pip/wheels/ba/52/4e/4c28d04d144a28f89e2575fb63628df6e6d49b56c5ddd0c74e\n",
            "Successfully built pyod umap-learn htmlmin phik prometheus-flask-exporter databricks-cli alembic pynndescent\n",
            "\u001b[31mERROR: google-colab 1.0.0 has requirement requests~=2.23.0, but you'll have requests 2.25.1 which is incompatible.\u001b[0m\n",
            "\u001b[31mERROR: datascience 0.10.6 has requirement folium==0.2.1, but you'll have folium 0.8.3 which is incompatible.\u001b[0m\n",
            "\u001b[31mERROR: pyldavis 3.3.1 has requirement numpy>=1.20.0, but you'll have numpy 1.19.5 which is incompatible.\u001b[0m\n",
            "\u001b[31mERROR: pyldavis 3.3.1 has requirement pandas>=1.2.0, but you'll have pandas 1.1.5 which is incompatible.\u001b[0m\n",
            "\u001b[31mERROR: phik 0.11.2 has requirement scipy>=1.5.2, but you'll have scipy 1.4.1 which is incompatible.\u001b[0m\n",
            "Installing collected packages: threadpoolctl, scikit-learn, funcy, pyLDAvis, yellowbrick, lightgbm, imbalanced-learn, tangled-up-in-unicode, requests, htmlmin, tqdm, phik, PyYAML, pydantic, multimethod, imagehash, visions, pandas-profiling, kmodes, Boruta, mlxtend, prometheus-flask-exporter, querystring-parser, websocket-client, docker, gunicorn, databricks-cli, Mako, python-editor, alembic, smmap, gitdb, gitpython, mlflow, pyod, scikit-plot, pynndescent, umap-learn, pycaret-nightly\n",
            "  Found existing installation: scikit-learn 0.22.2.post1\n",
            "    Uninstalling scikit-learn-0.22.2.post1:\n",
            "      Successfully uninstalled scikit-learn-0.22.2.post1\n",
            "  Found existing installation: yellowbrick 0.9.1\n",
            "    Uninstalling yellowbrick-0.9.1:\n",
            "      Successfully uninstalled yellowbrick-0.9.1\n",
            "  Found existing installation: lightgbm 2.2.3\n",
            "    Uninstalling lightgbm-2.2.3:\n",
            "      Successfully uninstalled lightgbm-2.2.3\n",
            "  Found existing installation: imbalanced-learn 0.4.3\n",
            "    Uninstalling imbalanced-learn-0.4.3:\n",
            "      Successfully uninstalled imbalanced-learn-0.4.3\n",
            "  Found existing installation: requests 2.23.0\n",
            "    Uninstalling requests-2.23.0:\n",
            "      Successfully uninstalled requests-2.23.0\n",
            "  Found existing installation: tqdm 4.41.1\n",
            "    Uninstalling tqdm-4.41.1:\n",
            "      Successfully uninstalled tqdm-4.41.1\n",
            "  Found existing installation: PyYAML 3.13\n",
            "    Uninstalling PyYAML-3.13:\n",
            "      Successfully uninstalled PyYAML-3.13\n",
            "  Found existing installation: pandas-profiling 1.4.1\n",
            "    Uninstalling pandas-profiling-1.4.1:\n",
            "      Successfully uninstalled pandas-profiling-1.4.1\n",
            "  Found existing installation: mlxtend 0.14.0\n",
            "    Uninstalling mlxtend-0.14.0:\n",
            "      Successfully uninstalled mlxtend-0.14.0\n",
            "Successfully installed Boruta-0.3 Mako-1.1.4 PyYAML-5.4.1 alembic-1.4.1 databricks-cli-0.14.3 docker-5.0.0 funcy-1.16 gitdb-4.0.7 gitpython-3.1.17 gunicorn-20.1.0 htmlmin-0.1.12 imagehash-4.2.0 imbalanced-learn-0.7.0 kmodes-0.11.0 lightgbm-3.2.1 mlflow-1.17.0 mlxtend-0.18.0 multimethod-1.4 pandas-profiling-3.0.0 phik-0.11.2 prometheus-flask-exporter-0.18.2 pyLDAvis-3.3.1 pycaret-nightly-2.3.1.dev1623545063 pydantic-1.8.2 pynndescent-0.5.2 pyod-0.8.9 python-editor-1.0.4 querystring-parser-1.2.4 requests-2.25.1 scikit-learn-0.23.2 scikit-plot-0.3.7 smmap-4.0.0 tangled-up-in-unicode-0.1.0 threadpoolctl-2.1.0 tqdm-4.61.1 umap-learn-0.5.1 visions-0.7.1 websocket-client-1.1.0 yellowbrick-1.3.post1\n"
          ],
          "name": "stdout"
        }
      ]
    },
    {
      "cell_type": "code",
      "metadata": {
        "id": "DOJvEImhObBN"
      },
      "source": [
        "import pandas as pd \n",
        "import numpy as np \n",
        "import sklearn\n",
        "from google.colab import files, drive, data_table\n",
        "from google.colab.data_table import *\n",
        "from lightgbm import *\n",
        "from sklearn.ensemble import *\n",
        "from sklearn.ensemble import *\n",
        "from sklearn.neural_network import *\n",
        "from sklearn.model_selection import *\n",
        "from sklearn.naive_bayes import *\n",
        "from xgboost import *\n",
        "from sklearn.svm import *\n",
        "from sklearn.linear_model import *\n",
        "from genetic_selection import GeneticSelectionCV\n",
        "from sklearn.metrics import *\n",
        "\n",
        "from sklearn.tree import *\n",
        "import warnings\n",
        "from sklearn.utils import *\n",
        "from yellowbrick.model_selection import * \n",
        "from yellowbrick.classifier import * \n",
        "import matplotlib.pyplot as plt\n",
        "#from bayes_opt import *\n",
        "#from mlxtend.feature_selection import *\n",
        "import warnings\n",
        "warnings.filterwarnings(\"ignore\")\n",
        "#import h2o\n",
        "##from h2o.automl import H2OAutoML\n",
        "##h2o.init()\n",
        "\n",
        "mcc = make_scorer(matthews_corrcoef)"
      ],
      "execution_count": 2,
      "outputs": []
    },
    {
      "cell_type": "markdown",
      "metadata": {
        "id": "nAdMUuysOIHW"
      },
      "source": [
        "# Data Preprocessing"
      ]
    },
    {
      "cell_type": "code",
      "metadata": {
        "id": "FmNammGIOeu0",
        "colab": {
          "resources": {
            "http://localhost:8080/nbextensions/google.colab/files.js": {
              "data": "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",
              "ok": true,
              "headers": [
                [
                  "content-type",
                  "application/javascript"
                ]
              ],
              "status": 200,
              "status_text": ""
            }
          },
          "base_uri": "https://localhost:8080/",
          "height": 110
        },
        "outputId": "f68d7990-5e8f-4536-8120-15a1578d98c5"
      },
      "source": [
        "files.upload()"
      ],
      "execution_count": 3,
      "outputs": [
        {
          "output_type": "display_data",
          "data": {
            "text/html": [
              "\n",
              "     <input type=\"file\" id=\"files-e738ce19-4ac0-4814-9536-5f4d88ae1b54\" name=\"files[]\" multiple disabled\n",
              "        style=\"border:none\" />\n",
              "     <output id=\"result-e738ce19-4ac0-4814-9536-5f4d88ae1b54\">\n",
              "      Upload widget is only available when the cell has been executed in the\n",
              "      current browser session. Please rerun this cell to enable.\n",
              "      </output>\n",
              "      <script src=\"/nbextensions/google.colab/files.js\"></script> "
            ],
            "text/plain": [
              "<IPython.core.display.HTML object>"
            ]
          },
          "metadata": {
            "tags": []
          }
        },
        {
          "output_type": "stream",
          "text": [
            "Saving heart_failure_clinical_records_dataset.csv to heart_failure_clinical_records_dataset.csv\n"
          ],
          "name": "stdout"
        },
        {
          "output_type": "execute_result",
          "data": {
            "text/plain": [
              "{'heart_failure_clinical_records_dataset.csv': b'age,anaemia,creatinine_phosphokinase,diabetes,ejection_fraction,high_blood_pressure,platelets,serum_creatinine,serum_sodium,sex,smoking,time,DEATH_EVENT\\n75,0,582,0,20,1,265000,1.9,130,1,0,4,1\\n55,0,7861,0,38,0,263358.03,1.1,136,1,0,6,1\\n65,0,146,0,20,0,162000,1.3,129,1,1,7,1\\n50,1,111,0,20,0,210000,1.9,137,1,0,7,1\\n65,1,160,1,20,0,327000,2.7,116,0,0,8,1\\n90,1,47,0,40,1,204000,2.1,132,1,1,8,1\\n75,1,246,0,15,0,127000,1.2,137,1,0,10,1\\n60,1,315,1,60,0,454000,1.1,131,1,1,10,1\\n65,0,157,0,65,0,263358.03,1.5,138,0,0,10,1\\n80,1,123,0,35,1,388000,9.4,133,1,1,10,1\\n75,1,81,0,38,1,368000,4,131,1,1,10,1\\n62,0,231,0,25,1,253000,0.9,140,1,1,10,1\\n45,1,981,0,30,0,136000,1.1,137,1,0,11,1\\n50,1,168,0,38,1,276000,1.1,137,1,0,11,1\\n49,1,80,0,30,1,427000,1,138,0,0,12,0\\n82,1,379,0,50,0,47000,1.3,136,1,0,13,1\\n87,1,149,0,38,0,262000,0.9,140,1,0,14,1\\n45,0,582,0,14,0,166000,0.8,127,1,0,14,1\\n70,1,125,0,25,1,237000,1,140,0,0,15,1\\n48,1,582,1,55,0,87000,1.9,121,0,0,15,1\\n65,1,52,0,25,1,276000,1.3,137,0,0,16,0\\n65,1,128,1,30,1,297000,1.6,136,0,0,20,1\\n68,1,220,0,35,1,289000,0.9,140,1,1,20,1\\n53,0,63,1,60,0,368000,0.8,135,1,0,22,0\\n75,0,582,1,30,1,263358.03,1.83,134,0,0,23,1\\n80,0,148,1,38,0,149000,1.9,144,1,1,23,1\\n95,1,112,0,40,1,196000,1,138,0,0,24,1\\n70,0,122,1,45,1,284000,1.3,136,1,1,26,1\\n58,1,60,0,38,0,153000,5.8,134,1,0,26,1\\n82,0,70,1,30,0,200000,1.2,132,1,1,26,1\\n94,0,582,1,38,1,263358.03,1.83,134,1,0,27,1\\n85,0,23,0,45,0,360000,3,132,1,0,28,1\\n50,1,249,1,35,1,319000,1,128,0,0,28,1\\n50,1,159,1,30,0,302000,1.2,138,0,0,29,0\\n65,0,94,1,50,1,188000,1,140,1,0,29,1\\n69,0,582,1,35,0,228000,3.5,134,1,0,30,1\\n90,1,60,1,50,0,226000,1,134,1,0,30,1\\n82,1,855,1,50,1,321000,1,145,0,0,30,1\\n60,0,2656,1,30,0,305000,2.3,137,1,0,30,0\\n60,0,235,1,38,0,329000,3,142,0,0,30,1\\n70,0,582,0,20,1,263358.03,1.83,134,1,1,31,1\\n50,0,124,1,30,1,153000,1.2,136,0,1,32,1\\n70,0,571,1,45,1,185000,1.2,139,1,1,33,1\\n72,0,127,1,50,1,218000,1,134,1,0,33,0\\n60,1,588,1,60,0,194000,1.1,142,0,0,33,1\\n50,0,582,1,38,0,310000,1.9,135,1,1,35,1\\n51,0,1380,0,25,1,271000,0.9,130,1,0,38,1\\n60,0,582,1,38,1,451000,0.6,138,1,1,40,1\\n80,1,553,0,20,1,140000,4.4,133,1,0,41,1\\n57,1,129,0,30,0,395000,1,140,0,0,42,1\\n68,1,577,0,25,1,166000,1,138,1,0,43,1\\n53,1,91,0,20,1,418000,1.4,139,0,0,43,1\\n60,0,3964,1,62,0,263358.03,6.8,146,0,0,43,1\\n70,1,69,1,50,1,351000,1,134,0,0,44,1\\n60,1,260,1,38,0,255000,2.2,132,0,1,45,1\\n95,1,371,0,30,0,461000,2,132,1,0,50,1\\n70,1,75,0,35,0,223000,2.7,138,1,1,54,0\\n60,1,607,0,40,0,216000,0.6,138,1,1,54,0\\n49,0,789,0,20,1,319000,1.1,136,1,1,55,1\\n72,0,364,1,20,1,254000,1.3,136,1,1,59,1\\n45,0,7702,1,25,1,390000,1,139,1,0,60,1\\n50,0,318,0,40,1,216000,2.3,131,0,0,60,1\\n55,0,109,0,35,0,254000,1.1,139,1,1,60,0\\n45,0,582,0,35,0,385000,1,145,1,0,61,1\\n45,0,582,0,80,0,263358.03,1.18,137,0,0,63,0\\n60,0,68,0,20,0,119000,2.9,127,1,1,64,1\\n42,1,250,1,15,0,213000,1.3,136,0,0,65,1\\n72,1,110,0,25,0,274000,1,140,1,1,65,1\\n70,0,161,0,25,0,244000,1.2,142,0,0,66,1\\n65,0,113,1,25,0,497000,1.83,135,1,0,67,1\\n41,0,148,0,40,0,374000,0.8,140,1,1,68,0\\n58,0,582,1,35,0,122000,0.9,139,1,1,71,0\\n85,0,5882,0,35,0,243000,1,132,1,1,72,1\\n65,0,224,1,50,0,149000,1.3,137,1,1,72,0\\n69,0,582,0,20,0,266000,1.2,134,1,1,73,1\\n60,1,47,0,20,0,204000,0.7,139,1,1,73,1\\n70,0,92,0,60,1,317000,0.8,140,0,1,74,0\\n42,0,102,1,40,0,237000,1.2,140,1,0,74,0\\n75,1,203,1,38,1,283000,0.6,131,1,1,74,0\\n55,0,336,0,45,1,324000,0.9,140,0,0,74,0\\n70,0,69,0,40,0,293000,1.7,136,0,0,75,0\\n67,0,582,0,50,0,263358.03,1.18,137,1,1,76,0\\n60,1,76,1,25,0,196000,2.5,132,0,0,77,1\\n79,1,55,0,50,1,172000,1.8,133,1,0,78,0\\n59,1,280,1,25,1,302000,1,141,0,0,78,1\\n51,0,78,0,50,0,406000,0.7,140,1,0,79,0\\n55,0,47,0,35,1,173000,1.1,137,1,0,79,0\\n65,1,68,1,60,1,304000,0.8,140,1,0,79,0\\n44,0,84,1,40,1,235000,0.7,139,1,0,79,0\\n57,1,115,0,25,1,181000,1.1,144,1,0,79,0\\n70,0,66,1,45,0,249000,0.8,136,1,1,80,0\\n60,0,897,1,45,0,297000,1,133,1,0,80,0\\n42,0,582,0,60,0,263358.03,1.18,137,0,0,82,0\\n60,1,154,0,25,0,210000,1.7,135,1,0,82,1\\n58,0,144,1,38,1,327000,0.7,142,0,0,83,0\\n58,1,133,0,60,1,219000,1,141,1,0,83,0\\n63,1,514,1,25,1,254000,1.3,134,1,0,83,0\\n70,1,59,0,60,0,255000,1.1,136,0,0,85,0\\n60,1,156,1,25,1,318000,1.2,137,0,0,85,0\\n63,1,61,1,40,0,221000,1.1,140,0,0,86,0\\n65,1,305,0,25,0,298000,1.1,141,1,0,87,0\\n75,0,582,0,45,1,263358.03,1.18,137,1,0,87,0\\n80,0,898,0,25,0,149000,1.1,144,1,1,87,0\\n42,0,5209,0,30,0,226000,1,140,1,1,87,0\\n60,0,53,0,50,1,286000,2.3,143,0,0,87,0\\n72,1,328,0,30,1,621000,1.7,138,0,1,88,1\\n55,0,748,0,45,0,263000,1.3,137,1,0,88,0\\n45,1,1876,1,35,0,226000,0.9,138,1,0,88,0\\n63,0,936,0,38,0,304000,1.1,133,1,1,88,0\\n45,0,292,1,35,0,850000,1.3,142,1,1,88,0\\n85,0,129,0,60,0,306000,1.2,132,1,1,90,1\\n55,0,60,0,35,0,228000,1.2,135,1,1,90,0\\n50,0,369,1,25,0,252000,1.6,136,1,0,90,0\\n70,1,143,0,60,0,351000,1.3,137,0,0,90,1\\n60,1,754,1,40,1,328000,1.2,126,1,0,91,0\\n58,1,400,0,40,0,164000,1,139,0,0,91,0\\n60,1,96,1,60,1,271000,0.7,136,0,0,94,0\\n85,1,102,0,60,0,507000,3.2,138,0,0,94,0\\n65,1,113,1,60,1,203000,0.9,140,0,0,94,0\\n86,0,582,0,38,0,263358.03,1.83,134,0,0,95,1\\n60,1,737,0,60,1,210000,1.5,135,1,1,95,0\\n66,1,68,1,38,1,162000,1,136,0,0,95,0\\n60,0,96,1,38,0,228000,0.75,140,0,0,95,0\\n60,1,582,0,30,1,127000,0.9,145,0,0,95,0\\n60,0,582,0,40,0,217000,3.7,134,1,0,96,1\\n43,1,358,0,50,0,237000,1.3,135,0,0,97,0\\n46,0,168,1,17,1,271000,2.1,124,0,0,100,1\\n58,1,200,1,60,0,300000,0.8,137,0,0,104,0\\n61,0,248,0,30,1,267000,0.7,136,1,1,104,0\\n53,1,270,1,35,0,227000,3.4,145,1,0,105,0\\n53,1,1808,0,60,1,249000,0.7,138,1,1,106,0\\n60,1,1082,1,45,0,250000,6.1,131,1,0,107,0\\n46,0,719,0,40,1,263358.03,1.18,137,0,0,107,0\\n63,0,193,0,60,1,295000,1.3,145,1,1,107,0\\n81,0,4540,0,35,0,231000,1.18,137,1,1,107,0\\n75,0,582,0,40,0,263358.03,1.18,137,1,0,107,0\\n65,1,59,1,60,0,172000,0.9,137,0,0,107,0\\n68,1,646,0,25,0,305000,2.1,130,1,0,108,0\\n62,0,281,1,35,0,221000,1,136,0,0,108,0\\n50,0,1548,0,30,1,211000,0.8,138,1,0,108,0\\n80,0,805,0,38,0,263358.03,1.1,134,1,0,109,1\\n46,1,291,0,35,0,348000,0.9,140,0,0,109,0\\n50,0,482,1,30,0,329000,0.9,132,0,0,109,0\\n61,1,84,0,40,1,229000,0.9,141,0,0,110,0\\n72,1,943,0,25,1,338000,1.7,139,1,1,111,1\\n50,0,185,0,30,0,266000,0.7,141,1,1,112,0\\n52,0,132,0,30,0,218000,0.7,136,1,1,112,0\\n64,0,1610,0,60,0,242000,1,137,1,0,113,0\\n75,1,582,0,30,0,225000,1.83,134,1,0,113,1\\n60,0,2261,0,35,1,228000,0.9,136,1,0,115,0\\n72,0,233,0,45,1,235000,2.5,135,0,0,115,1\\n62,0,30,1,60,1,244000,0.9,139,1,0,117,0\\n50,0,115,0,45,1,184000,0.9,134,1,1,118,0\\n50,0,1846,1,35,0,263358.03,1.18,137,1,1,119,0\\n65,1,335,0,35,1,235000,0.8,136,0,0,120,0\\n60,1,231,1,25,0,194000,1.7,140,1,0,120,0\\n52,1,58,0,35,0,277000,1.4,136,0,0,120,0\\n50,0,250,0,25,0,262000,1,136,1,1,120,0\\n85,1,910,0,50,0,235000,1.3,134,1,0,121,0\\n59,1,129,0,45,1,362000,1.1,139,1,1,121,0\\n66,1,72,0,40,1,242000,1.2,134,1,0,121,0\\n45,1,130,0,35,0,174000,0.8,139,1,1,121,0\\n63,1,582,0,40,0,448000,0.9,137,1,1,123,0\\n50,1,2334,1,35,0,75000,0.9,142,0,0,126,1\\n45,0,2442,1,30,0,334000,1.1,139,1,0,129,1\\n80,0,776,1,38,1,192000,1.3,135,0,0,130,1\\n53,0,196,0,60,0,220000,0.7,133,1,1,134,0\\n59,0,66,1,20,0,70000,2.4,134,1,0,135,1\\n65,0,582,1,40,0,270000,1,138,0,0,140,0\\n70,0,835,0,35,1,305000,0.8,133,0,0,145,0\\n51,1,582,1,35,0,263358.03,1.5,136,1,1,145,0\\n52,0,3966,0,40,0,325000,0.9,140,1,1,146,0\\n70,1,171,0,60,1,176000,1.1,145,1,1,146,0\\n50,1,115,0,20,0,189000,0.8,139,1,0,146,0\\n65,0,198,1,35,1,281000,0.9,137,1,1,146,0\\n60,1,95,0,60,0,337000,1,138,1,1,146,0\\n69,0,1419,0,40,0,105000,1,135,1,1,147,0\\n49,1,69,0,50,0,132000,1,140,0,0,147,0\\n63,1,122,1,60,0,267000,1.2,145,1,0,147,0\\n55,0,835,0,40,0,279000,0.7,140,1,1,147,0\\n40,0,478,1,30,0,303000,0.9,136,1,0,148,0\\n59,1,176,1,25,0,221000,1,136,1,1,150,1\\n65,0,395,1,25,0,265000,1.2,136,1,1,154,1\\n75,0,99,0,38,1,224000,2.5,134,1,0,162,1\\n58,1,145,0,25,0,219000,1.2,137,1,1,170,1\\n60.667,1,104,1,30,0,389000,1.5,136,1,0,171,1\\n50,0,582,0,50,0,153000,0.6,134,0,0,172,1\\n60,0,1896,1,25,0,365000,2.1,144,0,0,172,1\\n60.667,1,151,1,40,1,201000,1,136,0,0,172,0\\n40,0,244,0,45,1,275000,0.9,140,0,0,174,0\\n80,0,582,1,35,0,350000,2.1,134,1,0,174,0\\n64,1,62,0,60,0,309000,1.5,135,0,0,174,0\\n50,1,121,1,40,0,260000,0.7,130,1,0,175,0\\n73,1,231,1,30,0,160000,1.18,142,1,1,180,0\\n45,0,582,0,20,1,126000,1.6,135,1,0,180,1\\n77,1,418,0,45,0,223000,1.8,145,1,0,180,1\\n45,0,582,1,38,1,263358.03,1.18,137,0,0,185,0\\n65,0,167,0,30,0,259000,0.8,138,0,0,186,0\\n50,1,582,1,20,1,279000,1,134,0,0,186,0\\n60,0,1211,1,35,0,263358.03,1.8,113,1,1,186,0\\n63,1,1767,0,45,0,73000,0.7,137,1,0,186,0\\n45,0,308,1,60,1,377000,1,136,1,0,186,0\\n70,0,97,0,60,1,220000,0.9,138,1,0,186,0\\n60,0,59,0,25,1,212000,3.5,136,1,1,187,0\\n78,1,64,0,40,0,277000,0.7,137,1,1,187,0\\n50,1,167,1,45,0,362000,1,136,0,0,187,0\\n40,1,101,0,40,0,226000,0.8,141,0,0,187,0\\n85,0,212,0,38,0,186000,0.9,136,1,0,187,0\\n60,1,2281,1,40,0,283000,1,141,0,0,187,0\\n49,0,972,1,35,1,268000,0.8,130,0,0,187,0\\n70,0,212,1,17,1,389000,1,136,1,1,188,0\\n50,0,582,0,62,1,147000,0.8,140,1,1,192,0\\n78,0,224,0,50,0,481000,1.4,138,1,1,192,0\\n48,1,131,1,30,1,244000,1.6,130,0,0,193,1\\n65,1,135,0,35,1,290000,0.8,134,1,0,194,0\\n73,0,582,0,35,1,203000,1.3,134,1,0,195,0\\n70,0,1202,0,50,1,358000,0.9,141,0,0,196,0\\n54,1,427,0,70,1,151000,9,137,0,0,196,1\\n68,1,1021,1,35,0,271000,1.1,134,1,0,197,0\\n55,0,582,1,35,1,371000,0.7,140,0,0,197,0\\n73,0,582,0,20,0,263358.03,1.83,134,1,0,198,1\\n65,0,118,0,50,0,194000,1.1,145,1,1,200,0\\n42,1,86,0,35,0,365000,1.1,139,1,1,201,0\\n47,0,582,0,25,0,130000,0.8,134,1,0,201,0\\n58,0,582,1,25,0,504000,1,138,1,0,205,0\\n75,0,675,1,60,0,265000,1.4,125,0,0,205,0\\n58,1,57,0,25,0,189000,1.3,132,1,1,205,0\\n55,1,2794,0,35,1,141000,1,140,1,0,206,0\\n65,0,56,0,25,0,237000,5,130,0,0,207,0\\n72,0,211,0,25,0,274000,1.2,134,0,0,207,0\\n60,0,166,0,30,0,62000,1.7,127,0,0,207,1\\n70,0,93,0,35,0,185000,1.1,134,1,1,208,0\\n40,1,129,0,35,0,255000,0.9,137,1,0,209,0\\n53,1,707,0,38,0,330000,1.4,137,1,1,209,0\\n53,1,582,0,45,0,305000,1.1,137,1,1,209,0\\n77,1,109,0,50,1,406000,1.1,137,1,0,209,0\\n75,0,119,0,50,1,248000,1.1,148,1,0,209,0\\n70,0,232,0,30,0,173000,1.2,132,1,0,210,0\\n65,1,720,1,40,0,257000,1,136,0,0,210,0\\n55,1,180,0,45,0,263358.03,1.18,137,1,1,211,0\\n70,0,81,1,35,1,533000,1.3,139,0,0,212,0\\n65,0,582,1,30,0,249000,1.3,136,1,1,212,0\\n40,0,90,0,35,0,255000,1.1,136,1,1,212,0\\n73,1,1185,0,40,1,220000,0.9,141,0,0,213,0\\n54,0,582,1,38,0,264000,1.8,134,1,0,213,0\\n61,1,80,1,38,0,282000,1.4,137,1,0,213,0\\n55,0,2017,0,25,0,314000,1.1,138,1,0,214,1\\n64,0,143,0,25,0,246000,2.4,135,1,0,214,0\\n40,0,624,0,35,0,301000,1,142,1,1,214,0\\n53,0,207,1,40,0,223000,1.2,130,0,0,214,0\\n50,0,2522,0,30,1,404000,0.5,139,0,0,214,0\\n55,0,572,1,35,0,231000,0.8,143,0,0,215,0\\n50,0,245,0,45,1,274000,1,133,1,0,215,0\\n70,0,88,1,35,1,236000,1.2,132,0,0,215,0\\n53,1,446,0,60,1,263358.03,1,139,1,0,215,0\\n52,1,191,1,30,1,334000,1,142,1,1,216,0\\n65,0,326,0,38,0,294000,1.7,139,0,0,220,0\\n58,0,132,1,38,1,253000,1,139,1,0,230,0\\n45,1,66,1,25,0,233000,0.8,135,1,0,230,0\\n53,0,56,0,50,0,308000,0.7,135,1,1,231,0\\n55,0,66,0,40,0,203000,1,138,1,0,233,0\\n62,1,655,0,40,0,283000,0.7,133,0,0,233,0\\n65,1,258,1,25,0,198000,1.4,129,1,0,235,1\\n68,1,157,1,60,0,208000,1,140,0,0,237,0\\n61,0,582,1,38,0,147000,1.2,141,1,0,237,0\\n50,1,298,0,35,0,362000,0.9,140,1,1,240,0\\n55,0,1199,0,20,0,263358.03,1.83,134,1,1,241,1\\n56,1,135,1,38,0,133000,1.7,140,1,0,244,0\\n45,0,582,1,38,0,302000,0.9,140,0,0,244,0\\n40,0,582,1,35,0,222000,1,132,1,0,244,0\\n44,0,582,1,30,1,263358.03,1.6,130,1,1,244,0\\n51,0,582,1,40,0,221000,0.9,134,0,0,244,0\\n67,0,213,0,38,0,215000,1.2,133,0,0,245,0\\n42,0,64,0,40,0,189000,0.7,140,1,0,245,0\\n60,1,257,1,30,0,150000,1,137,1,1,245,0\\n45,0,582,0,38,1,422000,0.8,137,0,0,245,0\\n70,0,618,0,35,0,327000,1.1,142,0,0,245,0\\n70,0,582,1,38,0,25100,1.1,140,1,0,246,0\\n50,1,1051,1,30,0,232000,0.7,136,0,0,246,0\\n55,0,84,1,38,0,451000,1.3,136,0,0,246,0\\n70,0,2695,1,40,0,241000,1,137,1,0,247,0\\n70,0,582,0,40,0,51000,2.7,136,1,1,250,0\\n42,0,64,0,30,0,215000,3.8,128,1,1,250,0\\n65,0,1688,0,38,0,263358.03,1.1,138,1,1,250,0\\n50,1,54,0,40,0,279000,0.8,141,1,0,250,0\\n55,1,170,1,40,0,336000,1.2,135,1,0,250,0\\n60,0,253,0,35,0,279000,1.7,140,1,0,250,0\\n45,0,582,1,55,0,543000,1,132,0,0,250,0\\n65,0,892,1,35,0,263358.03,1.1,142,0,0,256,0\\n90,1,337,0,38,0,390000,0.9,144,0,0,256,0\\n45,0,615,1,55,0,222000,0.8,141,0,0,257,0\\n60,0,320,0,35,0,133000,1.4,139,1,0,258,0\\n52,0,190,1,38,0,382000,1,140,1,1,258,0\\n63,1,103,1,35,0,179000,0.9,136,1,1,270,0\\n62,0,61,1,38,1,155000,1.1,143,1,1,270,0\\n55,0,1820,0,38,0,270000,1.2,139,0,0,271,0\\n45,0,2060,1,60,0,742000,0.8,138,0,0,278,0\\n45,0,2413,0,38,0,140000,1.4,140,1,1,280,0\\n50,0,196,0,45,0,395000,1.6,136,1,1,285,0\\n'}"
            ]
          },
          "metadata": {
            "tags": []
          },
          "execution_count": 3
        }
      ]
    },
    {
      "cell_type": "code",
      "metadata": {
        "id": "UvgleinpOoy7",
        "colab": {
          "base_uri": "https://localhost:8080/"
        },
        "outputId": "ad959849-a435-44f4-ec1e-8bf96a6f3c16"
      },
      "source": [
        "D = pd.read_csv(\"heart_failure_clinical_records_dataset.csv\")\n",
        "allfeats = D.columns\n",
        "allfeats = list(allfeats)\n",
        "#allfeats.remove(\"time\")\n",
        "allfeats.remove(\"DEATH_EVENT\")\n",
        "allfeats.remove(\"time\")\n",
        "catcols = [\"anaemia\", \"diabetes\", \"high_blood_pressure\", \"sex\", \"smoking\"]\n",
        "# for c in catcols:\n",
        "#   D[c] = D[c].astype(\"category\")\n",
        "numcols = set(allfeats) - set(catcols)\n",
        "numcols = list(numcols)\n",
        "#numcols.remove(\"DEATH_EVENT\")\n",
        "print(numcols, catcols)\n",
        "\n",
        "D[\"time\"].describe()"
      ],
      "execution_count": 4,
      "outputs": [
        {
          "output_type": "stream",
          "text": [
            "['platelets', 'age', 'serum_sodium', 'ejection_fraction', 'creatinine_phosphokinase', 'serum_creatinine'] ['anaemia', 'diabetes', 'high_blood_pressure', 'sex', 'smoking']\n"
          ],
          "name": "stdout"
        },
        {
          "output_type": "execute_result",
          "data": {
            "text/plain": [
              "count    299.000000\n",
              "mean     130.260870\n",
              "std       77.614208\n",
              "min        4.000000\n",
              "25%       73.000000\n",
              "50%      115.000000\n",
              "75%      203.000000\n",
              "max      285.000000\n",
              "Name: time, dtype: float64"
            ]
          },
          "metadata": {
            "tags": []
          },
          "execution_count": 4
        }
      ]
    },
    {
      "cell_type": "code",
      "metadata": {
        "id": "651dv3WOvjzf",
        "colab": {
          "base_uri": "https://localhost:8080/"
        },
        "outputId": "a3babe56-aaec-4a6a-e040-d64cdb3224b3"
      },
      "source": [
        "D[allfeats].dtypes"
      ],
      "execution_count": 5,
      "outputs": [
        {
          "output_type": "execute_result",
          "data": {
            "text/plain": [
              "age                         float64\n",
              "anaemia                       int64\n",
              "creatinine_phosphokinase      int64\n",
              "diabetes                      int64\n",
              "ejection_fraction             int64\n",
              "high_blood_pressure           int64\n",
              "platelets                   float64\n",
              "serum_creatinine            float64\n",
              "serum_sodium                  int64\n",
              "sex                           int64\n",
              "smoking                       int64\n",
              "dtype: object"
            ]
          },
          "metadata": {
            "tags": []
          },
          "execution_count": 5
        }
      ]
    },
    {
      "cell_type": "code",
      "metadata": {
        "id": "CViY3zHO_eS4"
      },
      "source": [
        "from sklearn.preprocessing import * \n",
        "\n",
        "for col in numcols: \n",
        "  scaler = MinMaxScaler()\n",
        "  D[col] = scaler.fit_transform(D[col].values.reshape(-1,1))"
      ],
      "execution_count": 6,
      "outputs": []
    },
    {
      "cell_type": "code",
      "metadata": {
        "id": "aAFTQpQXO2UR",
        "colab": {
          "base_uri": "https://localhost:8080/",
          "height": 417
        },
        "outputId": "774c4bd1-5a69-454e-9489-d6cd2b28aa01"
      },
      "source": [
        "D.iloc[:,-1] = D.iloc[:,-1].astype(np.int64)\n",
        "D[allfeats]"
      ],
      "execution_count": 7,
      "outputs": [
        {
          "output_type": "execute_result",
          "data": {
            "text/html": [
              "<div>\n",
              "<style scoped>\n",
              "    .dataframe tbody tr th:only-of-type {\n",
              "        vertical-align: middle;\n",
              "    }\n",
              "\n",
              "    .dataframe tbody tr th {\n",
              "        vertical-align: top;\n",
              "    }\n",
              "\n",
              "    .dataframe thead th {\n",
              "        text-align: right;\n",
              "    }\n",
              "</style>\n",
              "<table border=\"1\" class=\"dataframe\">\n",
              "  <thead>\n",
              "    <tr style=\"text-align: right;\">\n",
              "      <th></th>\n",
              "      <th>age</th>\n",
              "      <th>anaemia</th>\n",
              "      <th>creatinine_phosphokinase</th>\n",
              "      <th>diabetes</th>\n",
              "      <th>ejection_fraction</th>\n",
              "      <th>high_blood_pressure</th>\n",
              "      <th>platelets</th>\n",
              "      <th>serum_creatinine</th>\n",
              "      <th>serum_sodium</th>\n",
              "      <th>sex</th>\n",
              "      <th>smoking</th>\n",
              "    </tr>\n",
              "  </thead>\n",
              "  <tbody>\n",
              "    <tr>\n",
              "      <th>0</th>\n",
              "      <td>0.636364</td>\n",
              "      <td>0</td>\n",
              "      <td>0.071319</td>\n",
              "      <td>0</td>\n",
              "      <td>0.090909</td>\n",
              "      <td>1</td>\n",
              "      <td>0.290823</td>\n",
              "      <td>0.157303</td>\n",
              "      <td>0.485714</td>\n",
              "      <td>1</td>\n",
              "      <td>0</td>\n",
              "    </tr>\n",
              "    <tr>\n",
              "      <th>1</th>\n",
              "      <td>0.272727</td>\n",
              "      <td>0</td>\n",
              "      <td>1.000000</td>\n",
              "      <td>0</td>\n",
              "      <td>0.363636</td>\n",
              "      <td>0</td>\n",
              "      <td>0.288833</td>\n",
              "      <td>0.067416</td>\n",
              "      <td>0.657143</td>\n",
              "      <td>1</td>\n",
              "      <td>0</td>\n",
              "    </tr>\n",
              "    <tr>\n",
              "      <th>2</th>\n",
              "      <td>0.454545</td>\n",
              "      <td>0</td>\n",
              "      <td>0.015693</td>\n",
              "      <td>0</td>\n",
              "      <td>0.090909</td>\n",
              "      <td>0</td>\n",
              "      <td>0.165960</td>\n",
              "      <td>0.089888</td>\n",
              "      <td>0.457143</td>\n",
              "      <td>1</td>\n",
              "      <td>1</td>\n",
              "    </tr>\n",
              "    <tr>\n",
              "      <th>3</th>\n",
              "      <td>0.181818</td>\n",
              "      <td>1</td>\n",
              "      <td>0.011227</td>\n",
              "      <td>0</td>\n",
              "      <td>0.090909</td>\n",
              "      <td>0</td>\n",
              "      <td>0.224148</td>\n",
              "      <td>0.157303</td>\n",
              "      <td>0.685714</td>\n",
              "      <td>1</td>\n",
              "      <td>0</td>\n",
              "    </tr>\n",
              "    <tr>\n",
              "      <th>4</th>\n",
              "      <td>0.454545</td>\n",
              "      <td>1</td>\n",
              "      <td>0.017479</td>\n",
              "      <td>1</td>\n",
              "      <td>0.090909</td>\n",
              "      <td>0</td>\n",
              "      <td>0.365984</td>\n",
              "      <td>0.247191</td>\n",
              "      <td>0.085714</td>\n",
              "      <td>0</td>\n",
              "      <td>0</td>\n",
              "    </tr>\n",
              "    <tr>\n",
              "      <th>...</th>\n",
              "      <td>...</td>\n",
              "      <td>...</td>\n",
              "      <td>...</td>\n",
              "      <td>...</td>\n",
              "      <td>...</td>\n",
              "      <td>...</td>\n",
              "      <td>...</td>\n",
              "      <td>...</td>\n",
              "      <td>...</td>\n",
              "      <td>...</td>\n",
              "      <td>...</td>\n",
              "    </tr>\n",
              "    <tr>\n",
              "      <th>294</th>\n",
              "      <td>0.400000</td>\n",
              "      <td>0</td>\n",
              "      <td>0.004848</td>\n",
              "      <td>1</td>\n",
              "      <td>0.363636</td>\n",
              "      <td>1</td>\n",
              "      <td>0.157474</td>\n",
              "      <td>0.067416</td>\n",
              "      <td>0.857143</td>\n",
              "      <td>1</td>\n",
              "      <td>1</td>\n",
              "    </tr>\n",
              "    <tr>\n",
              "      <th>295</th>\n",
              "      <td>0.272727</td>\n",
              "      <td>0</td>\n",
              "      <td>0.229268</td>\n",
              "      <td>0</td>\n",
              "      <td>0.363636</td>\n",
              "      <td>0</td>\n",
              "      <td>0.296884</td>\n",
              "      <td>0.078652</td>\n",
              "      <td>0.742857</td>\n",
              "      <td>0</td>\n",
              "      <td>0</td>\n",
              "    </tr>\n",
              "    <tr>\n",
              "      <th>296</th>\n",
              "      <td>0.090909</td>\n",
              "      <td>0</td>\n",
              "      <td>0.259888</td>\n",
              "      <td>1</td>\n",
              "      <td>0.696970</td>\n",
              "      <td>0</td>\n",
              "      <td>0.869075</td>\n",
              "      <td>0.033708</td>\n",
              "      <td>0.714286</td>\n",
              "      <td>0</td>\n",
              "      <td>0</td>\n",
              "    </tr>\n",
              "    <tr>\n",
              "      <th>297</th>\n",
              "      <td>0.090909</td>\n",
              "      <td>0</td>\n",
              "      <td>0.304925</td>\n",
              "      <td>0</td>\n",
              "      <td>0.363636</td>\n",
              "      <td>0</td>\n",
              "      <td>0.139290</td>\n",
              "      <td>0.101124</td>\n",
              "      <td>0.771429</td>\n",
              "      <td>1</td>\n",
              "      <td>1</td>\n",
              "    </tr>\n",
              "    <tr>\n",
              "      <th>298</th>\n",
              "      <td>0.181818</td>\n",
              "      <td>0</td>\n",
              "      <td>0.022072</td>\n",
              "      <td>0</td>\n",
              "      <td>0.469697</td>\n",
              "      <td>0</td>\n",
              "      <td>0.448418</td>\n",
              "      <td>0.123596</td>\n",
              "      <td>0.657143</td>\n",
              "      <td>1</td>\n",
              "      <td>1</td>\n",
              "    </tr>\n",
              "  </tbody>\n",
              "</table>\n",
              "<p>299 rows × 11 columns</p>\n",
              "</div>"
            ],
            "text/plain": [
              "          age  anaemia  creatinine_phosphokinase  ...  serum_sodium  sex  smoking\n",
              "0    0.636364        0                  0.071319  ...      0.485714    1        0\n",
              "1    0.272727        0                  1.000000  ...      0.657143    1        0\n",
              "2    0.454545        0                  0.015693  ...      0.457143    1        1\n",
              "3    0.181818        1                  0.011227  ...      0.685714    1        0\n",
              "4    0.454545        1                  0.017479  ...      0.085714    0        0\n",
              "..        ...      ...                       ...  ...           ...  ...      ...\n",
              "294  0.400000        0                  0.004848  ...      0.857143    1        1\n",
              "295  0.272727        0                  0.229268  ...      0.742857    0        0\n",
              "296  0.090909        0                  0.259888  ...      0.714286    0        0\n",
              "297  0.090909        0                  0.304925  ...      0.771429    1        1\n",
              "298  0.181818        0                  0.022072  ...      0.657143    1        1\n",
              "\n",
              "[299 rows x 11 columns]"
            ]
          },
          "metadata": {
            "tags": []
          },
          "execution_count": 7
        }
      ]
    },
    {
      "cell_type": "code",
      "metadata": {
        "id": "Kstt71fK2EF2",
        "colab": {
          "base_uri": "https://localhost:8080/",
          "height": 417
        },
        "outputId": "dfa4a573-71be-44ff-9d1b-e538db60411b"
      },
      "source": [
        "X = D[allfeats] ; y = D[\"DEATH_EVENT\"].values\n",
        "X"
      ],
      "execution_count": 8,
      "outputs": [
        {
          "output_type": "execute_result",
          "data": {
            "text/html": [
              "<div>\n",
              "<style scoped>\n",
              "    .dataframe tbody tr th:only-of-type {\n",
              "        vertical-align: middle;\n",
              "    }\n",
              "\n",
              "    .dataframe tbody tr th {\n",
              "        vertical-align: top;\n",
              "    }\n",
              "\n",
              "    .dataframe thead th {\n",
              "        text-align: right;\n",
              "    }\n",
              "</style>\n",
              "<table border=\"1\" class=\"dataframe\">\n",
              "  <thead>\n",
              "    <tr style=\"text-align: right;\">\n",
              "      <th></th>\n",
              "      <th>age</th>\n",
              "      <th>anaemia</th>\n",
              "      <th>creatinine_phosphokinase</th>\n",
              "      <th>diabetes</th>\n",
              "      <th>ejection_fraction</th>\n",
              "      <th>high_blood_pressure</th>\n",
              "      <th>platelets</th>\n",
              "      <th>serum_creatinine</th>\n",
              "      <th>serum_sodium</th>\n",
              "      <th>sex</th>\n",
              "      <th>smoking</th>\n",
              "    </tr>\n",
              "  </thead>\n",
              "  <tbody>\n",
              "    <tr>\n",
              "      <th>0</th>\n",
              "      <td>0.636364</td>\n",
              "      <td>0</td>\n",
              "      <td>0.071319</td>\n",
              "      <td>0</td>\n",
              "      <td>0.090909</td>\n",
              "      <td>1</td>\n",
              "      <td>0.290823</td>\n",
              "      <td>0.157303</td>\n",
              "      <td>0.485714</td>\n",
              "      <td>1</td>\n",
              "      <td>0</td>\n",
              "    </tr>\n",
              "    <tr>\n",
              "      <th>1</th>\n",
              "      <td>0.272727</td>\n",
              "      <td>0</td>\n",
              "      <td>1.000000</td>\n",
              "      <td>0</td>\n",
              "      <td>0.363636</td>\n",
              "      <td>0</td>\n",
              "      <td>0.288833</td>\n",
              "      <td>0.067416</td>\n",
              "      <td>0.657143</td>\n",
              "      <td>1</td>\n",
              "      <td>0</td>\n",
              "    </tr>\n",
              "    <tr>\n",
              "      <th>2</th>\n",
              "      <td>0.454545</td>\n",
              "      <td>0</td>\n",
              "      <td>0.015693</td>\n",
              "      <td>0</td>\n",
              "      <td>0.090909</td>\n",
              "      <td>0</td>\n",
              "      <td>0.165960</td>\n",
              "      <td>0.089888</td>\n",
              "      <td>0.457143</td>\n",
              "      <td>1</td>\n",
              "      <td>1</td>\n",
              "    </tr>\n",
              "    <tr>\n",
              "      <th>3</th>\n",
              "      <td>0.181818</td>\n",
              "      <td>1</td>\n",
              "      <td>0.011227</td>\n",
              "      <td>0</td>\n",
              "      <td>0.090909</td>\n",
              "      <td>0</td>\n",
              "      <td>0.224148</td>\n",
              "      <td>0.157303</td>\n",
              "      <td>0.685714</td>\n",
              "      <td>1</td>\n",
              "      <td>0</td>\n",
              "    </tr>\n",
              "    <tr>\n",
              "      <th>4</th>\n",
              "      <td>0.454545</td>\n",
              "      <td>1</td>\n",
              "      <td>0.017479</td>\n",
              "      <td>1</td>\n",
              "      <td>0.090909</td>\n",
              "      <td>0</td>\n",
              "      <td>0.365984</td>\n",
              "      <td>0.247191</td>\n",
              "      <td>0.085714</td>\n",
              "      <td>0</td>\n",
              "      <td>0</td>\n",
              "    </tr>\n",
              "    <tr>\n",
              "      <th>...</th>\n",
              "      <td>...</td>\n",
              "      <td>...</td>\n",
              "      <td>...</td>\n",
              "      <td>...</td>\n",
              "      <td>...</td>\n",
              "      <td>...</td>\n",
              "      <td>...</td>\n",
              "      <td>...</td>\n",
              "      <td>...</td>\n",
              "      <td>...</td>\n",
              "      <td>...</td>\n",
              "    </tr>\n",
              "    <tr>\n",
              "      <th>294</th>\n",
              "      <td>0.400000</td>\n",
              "      <td>0</td>\n",
              "      <td>0.004848</td>\n",
              "      <td>1</td>\n",
              "      <td>0.363636</td>\n",
              "      <td>1</td>\n",
              "      <td>0.157474</td>\n",
              "      <td>0.067416</td>\n",
              "      <td>0.857143</td>\n",
              "      <td>1</td>\n",
              "      <td>1</td>\n",
              "    </tr>\n",
              "    <tr>\n",
              "      <th>295</th>\n",
              "      <td>0.272727</td>\n",
              "      <td>0</td>\n",
              "      <td>0.229268</td>\n",
              "      <td>0</td>\n",
              "      <td>0.363636</td>\n",
              "      <td>0</td>\n",
              "      <td>0.296884</td>\n",
              "      <td>0.078652</td>\n",
              "      <td>0.742857</td>\n",
              "      <td>0</td>\n",
              "      <td>0</td>\n",
              "    </tr>\n",
              "    <tr>\n",
              "      <th>296</th>\n",
              "      <td>0.090909</td>\n",
              "      <td>0</td>\n",
              "      <td>0.259888</td>\n",
              "      <td>1</td>\n",
              "      <td>0.696970</td>\n",
              "      <td>0</td>\n",
              "      <td>0.869075</td>\n",
              "      <td>0.033708</td>\n",
              "      <td>0.714286</td>\n",
              "      <td>0</td>\n",
              "      <td>0</td>\n",
              "    </tr>\n",
              "    <tr>\n",
              "      <th>297</th>\n",
              "      <td>0.090909</td>\n",
              "      <td>0</td>\n",
              "      <td>0.304925</td>\n",
              "      <td>0</td>\n",
              "      <td>0.363636</td>\n",
              "      <td>0</td>\n",
              "      <td>0.139290</td>\n",
              "      <td>0.101124</td>\n",
              "      <td>0.771429</td>\n",
              "      <td>1</td>\n",
              "      <td>1</td>\n",
              "    </tr>\n",
              "    <tr>\n",
              "      <th>298</th>\n",
              "      <td>0.181818</td>\n",
              "      <td>0</td>\n",
              "      <td>0.022072</td>\n",
              "      <td>0</td>\n",
              "      <td>0.469697</td>\n",
              "      <td>0</td>\n",
              "      <td>0.448418</td>\n",
              "      <td>0.123596</td>\n",
              "      <td>0.657143</td>\n",
              "      <td>1</td>\n",
              "      <td>1</td>\n",
              "    </tr>\n",
              "  </tbody>\n",
              "</table>\n",
              "<p>299 rows × 11 columns</p>\n",
              "</div>"
            ],
            "text/plain": [
              "          age  anaemia  creatinine_phosphokinase  ...  serum_sodium  sex  smoking\n",
              "0    0.636364        0                  0.071319  ...      0.485714    1        0\n",
              "1    0.272727        0                  1.000000  ...      0.657143    1        0\n",
              "2    0.454545        0                  0.015693  ...      0.457143    1        1\n",
              "3    0.181818        1                  0.011227  ...      0.685714    1        0\n",
              "4    0.454545        1                  0.017479  ...      0.085714    0        0\n",
              "..        ...      ...                       ...  ...           ...  ...      ...\n",
              "294  0.400000        0                  0.004848  ...      0.857143    1        1\n",
              "295  0.272727        0                  0.229268  ...      0.742857    0        0\n",
              "296  0.090909        0                  0.259888  ...      0.714286    0        0\n",
              "297  0.090909        0                  0.304925  ...      0.771429    1        1\n",
              "298  0.181818        0                  0.022072  ...      0.657143    1        1\n",
              "\n",
              "[299 rows x 11 columns]"
            ]
          },
          "metadata": {
            "tags": []
          },
          "execution_count": 8
        }
      ]
    },
    {
      "cell_type": "markdown",
      "metadata": {
        "id": "5wHFcCFXafR9"
      },
      "source": [
        "# Logistic Regression Baseline"
      ]
    },
    {
      "cell_type": "markdown",
      "metadata": {
        "id": "JT31X5sBag8Q"
      },
      "source": [
        ""
      ]
    },
    {
      "cell_type": "code",
      "metadata": {
        "id": "9-Ul1ZibahI8",
        "colab": {
          "base_uri": "https://localhost:8080/"
        },
        "outputId": "d9311ef1-ae29-4f53-b7d4-b5d66fad423f"
      },
      "source": [
        "rkf = RepeatedStratifiedKFold(n_splits = 10, n_repeats = 2)\n",
        "clf = LogisticRegression(solver = \"liblinear\")\n",
        "X = D[allfeats] ; y = D.iloc[:,-1]\n",
        "cv_score = np.mean(cross_val_score(clf, X, y, cv = rkf, scoring = mcc))\n",
        "print(cv_score)"
      ],
      "execution_count": 10,
      "outputs": [
        {
          "output_type": "stream",
          "text": [
            "0.261474686743305\n"
          ],
          "name": "stdout"
        }
      ]
    },
    {
      "cell_type": "markdown",
      "metadata": {
        "id": "pPWiF2brI4jI"
      },
      "source": [
        "# Logistic Regression + GA"
      ]
    },
    {
      "cell_type": "code",
      "metadata": {
        "id": "hhr7983tPJ7T",
        "colab": {
          "base_uri": "https://localhost:8080/"
        },
        "outputId": "9554b448-cc61-4b44-e014-9512a80762b1"
      },
      "source": [
        "estimator = LogisticRegression(solver = \"liblinear\", C = 6, tol = 1, fit_intercept = True)\n",
        "\n",
        "from sklearn.model_selection import *\n",
        "report = pd.DataFrame()\n",
        "nofeats = [] \n",
        "chosen_feats = [] \n",
        "cvscore = [] \n",
        "rkf = RepeatedStratifiedKFold(n_repeats = 20, n_splits = 5)\n",
        "for i in range(2,11):\n",
        "  \n",
        "  selector = GeneticSelectionCV(estimator,\n",
        "                                cv = rkf,\n",
        "                                verbose = 0,\n",
        "                                scoring = mcc,\n",
        "                                max_features = i,\n",
        "                                n_population = 200,\n",
        "                                crossover_proba = 0.5,\n",
        "                                mutation_proba = 0.2,\n",
        "                                n_generations = 10,\n",
        "                                crossover_independent_proba=0.5,\n",
        "                                mutation_independent_proba=0.1,\n",
        "                                #tournament_size = 3,\n",
        "                                n_gen_no_change=10,\n",
        "                                caching=True,\n",
        "                                n_jobs=-1)\n",
        "  selector = selector.fit(D[allfeats], y)\n",
        "  genfeats = D[allfeats].columns[selector.support_]\n",
        "  genfeats = list(genfeats)\n",
        "  print(\"Chosen Feats:  \", genfeats)\n",
        "\n",
        "  cv_score = selector.generation_scores_[-1]\n",
        "  nofeats.append(len(genfeats)) \n",
        "  chosen_feats.append(genfeats) \n",
        "  cvscore.append(cv_score)\n",
        "report[\"No of Feats\"] = nofeats\n",
        "report[\"Chosen Feats\"] = chosen_feats\n",
        "report[\"Scores\"] = cvscore\n",
        "\n"
      ],
      "execution_count": 11,
      "outputs": [
        {
          "output_type": "stream",
          "text": [
            "Chosen Feats:   ['age', 'ejection_fraction']\n",
            "Chosen Feats:   ['age', 'ejection_fraction', 'serum_creatinine']\n",
            "Chosen Feats:   ['age', 'diabetes', 'ejection_fraction', 'serum_creatinine']\n",
            "Chosen Feats:   ['age', 'creatinine_phosphokinase', 'diabetes', 'ejection_fraction', 'serum_creatinine']\n",
            "Chosen Feats:   ['age', 'diabetes', 'ejection_fraction', 'serum_creatinine']\n",
            "Chosen Feats:   ['age', 'diabetes', 'ejection_fraction', 'serum_creatinine']\n",
            "Chosen Feats:   ['age', 'creatinine_phosphokinase', 'diabetes', 'ejection_fraction', 'serum_creatinine']\n",
            "Chosen Feats:   ['age', 'creatinine_phosphokinase', 'diabetes', 'ejection_fraction', 'serum_creatinine']\n",
            "Chosen Feats:   ['age', 'creatinine_phosphokinase', 'diabetes', 'ejection_fraction', 'serum_creatinine']\n"
          ],
          "name": "stdout"
        }
      ]
    },
    {
      "cell_type": "code",
      "metadata": {
        "id": "wIi7Ll2phk-2",
        "colab": {
          "base_uri": "https://localhost:8080/"
        },
        "outputId": "3d06690f-0d3b-465f-8cf7-d744da7de667"
      },
      "source": [
        "report[\"Scores\"] = np.round(report[\"Scores\"], 3)\n",
        "report.sort_values(by = \"Scores\", ascending = False, inplace = True)\n",
        "#report.index\n",
        "print(report)\n",
        "ga_feats = report.iloc[0][\"Chosen Feats\"]\n",
        "DataTable(report)\n",
        "print(ga_feats)"
      ],
      "execution_count": 18,
      "outputs": [
        {
          "output_type": "stream",
          "text": [
            "   No of Feats                                       Chosen Feats  Scores\n",
            "7            3         [age, ejection_fraction, serum_creatinine]   0.828\n",
            "2            4  [age, anaemia, ejection_fraction, serum_creati...   0.823\n",
            "5            6  [age, creatinine_phosphokinase, ejection_fract...   0.815\n",
            "8            7  [age, creatinine_phosphokinase, ejection_fract...   0.815\n",
            "1            3         [age, ejection_fraction, serum_creatinine]   0.813\n",
            "3            5  [age, diabetes, ejection_fraction, serum_creat...   0.813\n",
            "6            8  [age, creatinine_phosphokinase, diabetes, ejec...   0.810\n",
            "4            4  [age, ejection_fraction, serum_creatinine, ser...   0.804\n",
            "0            2                            [age, serum_creatinine]   0.745\n",
            "['age', 'ejection_fraction', 'serum_creatinine']\n"
          ],
          "name": "stdout"
        }
      ]
    },
    {
      "cell_type": "code",
      "metadata": {
        "id": "T3fotnjHL-C8",
        "colab": {
          "base_uri": "https://localhost:8080/",
          "height": 326
        },
        "outputId": "7a69168c-5238-4b44-cdd9-10dd35614572"
      },
      "source": [
        "report"
      ],
      "execution_count": 13,
      "outputs": [
        {
          "output_type": "execute_result",
          "data": {
            "text/html": [
              "<div>\n",
              "<style scoped>\n",
              "    .dataframe tbody tr th:only-of-type {\n",
              "        vertical-align: middle;\n",
              "    }\n",
              "\n",
              "    .dataframe tbody tr th {\n",
              "        vertical-align: top;\n",
              "    }\n",
              "\n",
              "    .dataframe thead th {\n",
              "        text-align: right;\n",
              "    }\n",
              "</style>\n",
              "<table border=\"1\" class=\"dataframe\">\n",
              "  <thead>\n",
              "    <tr style=\"text-align: right;\">\n",
              "      <th></th>\n",
              "      <th>No of Feats</th>\n",
              "      <th>Chosen Feats</th>\n",
              "      <th>Scores</th>\n",
              "    </tr>\n",
              "  </thead>\n",
              "  <tbody>\n",
              "    <tr>\n",
              "      <th>4</th>\n",
              "      <td>4</td>\n",
              "      <td>[age, diabetes, ejection_fraction, serum_creat...</td>\n",
              "      <td>0.409</td>\n",
              "    </tr>\n",
              "    <tr>\n",
              "      <th>5</th>\n",
              "      <td>4</td>\n",
              "      <td>[age, diabetes, ejection_fraction, serum_creat...</td>\n",
              "      <td>0.409</td>\n",
              "    </tr>\n",
              "    <tr>\n",
              "      <th>7</th>\n",
              "      <td>5</td>\n",
              "      <td>[age, creatinine_phosphokinase, diabetes, ejec...</td>\n",
              "      <td>0.406</td>\n",
              "    </tr>\n",
              "    <tr>\n",
              "      <th>6</th>\n",
              "      <td>5</td>\n",
              "      <td>[age, creatinine_phosphokinase, diabetes, ejec...</td>\n",
              "      <td>0.405</td>\n",
              "    </tr>\n",
              "    <tr>\n",
              "      <th>8</th>\n",
              "      <td>5</td>\n",
              "      <td>[age, creatinine_phosphokinase, diabetes, ejec...</td>\n",
              "      <td>0.405</td>\n",
              "    </tr>\n",
              "    <tr>\n",
              "      <th>3</th>\n",
              "      <td>5</td>\n",
              "      <td>[age, creatinine_phosphokinase, diabetes, ejec...</td>\n",
              "      <td>0.403</td>\n",
              "    </tr>\n",
              "    <tr>\n",
              "      <th>2</th>\n",
              "      <td>4</td>\n",
              "      <td>[age, diabetes, ejection_fraction, serum_creat...</td>\n",
              "      <td>0.401</td>\n",
              "    </tr>\n",
              "    <tr>\n",
              "      <th>1</th>\n",
              "      <td>3</td>\n",
              "      <td>[age, ejection_fraction, serum_creatinine]</td>\n",
              "      <td>0.395</td>\n",
              "    </tr>\n",
              "    <tr>\n",
              "      <th>0</th>\n",
              "      <td>2</td>\n",
              "      <td>[age, ejection_fraction]</td>\n",
              "      <td>0.370</td>\n",
              "    </tr>\n",
              "  </tbody>\n",
              "</table>\n",
              "</div>"
            ],
            "text/plain": [
              "   No of Feats                                       Chosen Feats  Scores\n",
              "4            4  [age, diabetes, ejection_fraction, serum_creat...   0.409\n",
              "5            4  [age, diabetes, ejection_fraction, serum_creat...   0.409\n",
              "7            5  [age, creatinine_phosphokinase, diabetes, ejec...   0.406\n",
              "6            5  [age, creatinine_phosphokinase, diabetes, ejec...   0.405\n",
              "8            5  [age, creatinine_phosphokinase, diabetes, ejec...   0.405\n",
              "3            5  [age, creatinine_phosphokinase, diabetes, ejec...   0.403\n",
              "2            4  [age, diabetes, ejection_fraction, serum_creat...   0.401\n",
              "1            3         [age, ejection_fraction, serum_creatinine]   0.395\n",
              "0            2                           [age, ejection_fraction]   0.370"
            ]
          },
          "metadata": {
            "tags": []
          },
          "execution_count": 13
        }
      ]
    },
    {
      "cell_type": "markdown",
      "metadata": {
        "id": "zuKgX-rs8KgV"
      },
      "source": [
        "# Random Forest Baseline"
      ]
    },
    {
      "cell_type": "code",
      "metadata": {
        "id": "yoUmgtcHvFQX",
        "colab": {
          "base_uri": "https://localhost:8080/"
        },
        "outputId": "26ccbd80-efd7-44ba-8ab7-c9fdc0671471"
      },
      "source": [
        "clf = RandomForestClassifier(max_depth = 3)\n",
        "rskf = RepeatedStratifiedKFold(n_repeats = 10, n_splits = 10)\n",
        "\n",
        "#clf = LGBMClassifier(n_estimators = 41, max_depth=7)\n",
        "\n",
        "X = D[allfeats]; y = D.iloc[:,-1]\n",
        "clf.fit(X,y)\n",
        "print(\"roc auc on entire data set\", roc_auc_score(y, clf.predict(X)))\n",
        "print(np.mean(cross_val_score(clf, X, y, cv = rskf, scoring = \"roc_auc\")))\n",
        "# r = LGBMClassifier() \n",
        "# r.fit(X,y)\n",
        "# print(roc_auc_score(y, r.predict(X)))"
      ],
      "execution_count": 14,
      "outputs": [
        {
          "output_type": "stream",
          "text": [
            "roc auc on entire data set 0.7064347290640395\n",
            "0.7969412698412697\n"
          ],
          "name": "stdout"
        }
      ]
    },
    {
      "cell_type": "markdown",
      "metadata": {
        "id": "pWYOsZYSGuoK"
      },
      "source": [
        "# Random Forest//Genetic Algo for feature selection"
      ]
    },
    {
      "cell_type": "code",
      "metadata": {
        "id": "ttNUnX4KGyTr",
        "colab": {
          "base_uri": "https://localhost:8080/"
        },
        "outputId": "4dbc672c-45a3-4832-aa0e-b854df3bbba3"
      },
      "source": [
        "estimator = RandomForestClassifier(max_depth = 3)\n",
        "from sklearn.model_selection import *\n",
        "report = pd.DataFrame()\n",
        "nofeats = [] \n",
        "chosen_feats = [] \n",
        "cvscore = [] \n",
        "rkf = RepeatedStratifiedKFold(n_repeats = 1, n_splits = 10)\n",
        "for i in range(2,11):\n",
        "  \n",
        "  selector = GeneticSelectionCV(estimator,\n",
        "                                cv = rkf,\n",
        "                                verbose = 0,\n",
        "                                scoring = \"roc_auc\",\n",
        "                                max_features = i,\n",
        "                                n_population = 30,\n",
        "                                crossover_proba = 0.5,\n",
        "                                mutation_proba = 0.2,\n",
        "                                n_generations = 10,\n",
        "                                crossover_independent_proba=0.5,\n",
        "                                mutation_independent_proba=0.05,\n",
        "                                tournament_size = 1,\n",
        "                                n_gen_no_change = 5,\n",
        "                                caching = True,\n",
        "                                n_jobs=-1)\n",
        "  selector = selector.fit(D[allfeats], y)\n",
        "\n",
        "  print(selector.support_)\n",
        "\n",
        "  genfeats = D[allfeats].columns[selector.support_]\n",
        "  genfeats = list(genfeats)\n",
        "  print(genfeats)\n",
        "\n",
        "  X = D[genfeats] ; y = D.iloc[:,-1]\n",
        "  clf = selector.estimator\n",
        "  \n",
        "  cv_score = selector.generation_scores_[-1]\n",
        "  nofeats.append(len(genfeats)) \n",
        "  chosen_feats.append(genfeats) \n",
        "  cvscore.append(cv_score)\n",
        "\n",
        "report[\"No of Feats\"] = nofeats\n",
        "report[\"Chosen Feats\"] = chosen_feats\n",
        "report[\"Scores\"] = np.round(cvscore, 3)\n",
        "\n",
        "#This took 568 seconds or 595 seconds  \n",
        "#[False  True False  True  True False False  True  True False False  True]\n",
        "#['anaemia', 'diabetes', 'ejection_fraction', 'serum_creatinine', 'serum_sodium', 'time']\n",
        "#Average CV score:  0.8202856225930681"
      ],
      "execution_count": 15,
      "outputs": [
        {
          "output_type": "stream",
          "text": [
            "[ True False False False False False False  True False False False]\n",
            "['age', 'serum_creatinine']\n",
            "[ True False False False  True False False  True False False False]\n",
            "['age', 'ejection_fraction', 'serum_creatinine']\n",
            "[ True  True False False  True False False  True False False False]\n",
            "['age', 'anaemia', 'ejection_fraction', 'serum_creatinine']\n",
            "[ True False False  True  True False False  True False False  True]\n",
            "['age', 'diabetes', 'ejection_fraction', 'serum_creatinine', 'smoking']\n",
            "[ True False False False  True False False  True  True False False]\n",
            "['age', 'ejection_fraction', 'serum_creatinine', 'serum_sodium']\n",
            "[ True False  True False  True False  True  True  True False False]\n",
            "['age', 'creatinine_phosphokinase', 'ejection_fraction', 'platelets', 'serum_creatinine', 'serum_sodium']\n",
            "[ True False  True  True  True False  True  True False  True  True]\n",
            "['age', 'creatinine_phosphokinase', 'diabetes', 'ejection_fraction', 'platelets', 'serum_creatinine', 'sex', 'smoking']\n",
            "[ True False False False  True False False  True False False False]\n",
            "['age', 'ejection_fraction', 'serum_creatinine']\n",
            "[ True False  True False  True  True False  True  True  True False]\n",
            "['age', 'creatinine_phosphokinase', 'ejection_fraction', 'high_blood_pressure', 'serum_creatinine', 'serum_sodium', 'sex']\n"
          ],
          "name": "stdout"
        }
      ]
    },
    {
      "cell_type": "code",
      "metadata": {
        "colab": {
          "base_uri": "https://localhost:8080/"
        },
        "id": "5tLo3RELpCD5",
        "outputId": "49b5370e-f5c1-4285-8d23-3bfe1fa97d00"
      },
      "source": [
        "print(report)"
      ],
      "execution_count": 19,
      "outputs": [
        {
          "output_type": "stream",
          "text": [
            "   No of Feats                                       Chosen Feats  Scores\n",
            "7            3         [age, ejection_fraction, serum_creatinine]   0.828\n",
            "2            4  [age, anaemia, ejection_fraction, serum_creati...   0.823\n",
            "5            6  [age, creatinine_phosphokinase, ejection_fract...   0.815\n",
            "8            7  [age, creatinine_phosphokinase, ejection_fract...   0.815\n",
            "1            3         [age, ejection_fraction, serum_creatinine]   0.813\n",
            "3            5  [age, diabetes, ejection_fraction, serum_creat...   0.813\n",
            "6            8  [age, creatinine_phosphokinase, diabetes, ejec...   0.810\n",
            "4            4  [age, ejection_fraction, serum_creatinine, ser...   0.804\n",
            "0            2                            [age, serum_creatinine]   0.745\n"
          ],
          "name": "stdout"
        }
      ]
    },
    {
      "cell_type": "code",
      "metadata": {
        "id": "M5k97aWmLVOz",
        "colab": {
          "base_uri": "https://localhost:8080/",
          "height": 326
        },
        "outputId": "e5db0691-0b66-4b3c-91f3-0e82c179e83d"
      },
      "source": [
        "report.sort_values(by = \"Scores\", ascending = False, inplace = True)\n",
        "report"
      ],
      "execution_count": 16,
      "outputs": [
        {
          "output_type": "execute_result",
          "data": {
            "text/html": [
              "<div>\n",
              "<style scoped>\n",
              "    .dataframe tbody tr th:only-of-type {\n",
              "        vertical-align: middle;\n",
              "    }\n",
              "\n",
              "    .dataframe tbody tr th {\n",
              "        vertical-align: top;\n",
              "    }\n",
              "\n",
              "    .dataframe thead th {\n",
              "        text-align: right;\n",
              "    }\n",
              "</style>\n",
              "<table border=\"1\" class=\"dataframe\">\n",
              "  <thead>\n",
              "    <tr style=\"text-align: right;\">\n",
              "      <th></th>\n",
              "      <th>No of Feats</th>\n",
              "      <th>Chosen Feats</th>\n",
              "      <th>Scores</th>\n",
              "    </tr>\n",
              "  </thead>\n",
              "  <tbody>\n",
              "    <tr>\n",
              "      <th>7</th>\n",
              "      <td>3</td>\n",
              "      <td>[age, ejection_fraction, serum_creatinine]</td>\n",
              "      <td>0.828</td>\n",
              "    </tr>\n",
              "    <tr>\n",
              "      <th>2</th>\n",
              "      <td>4</td>\n",
              "      <td>[age, anaemia, ejection_fraction, serum_creati...</td>\n",
              "      <td>0.823</td>\n",
              "    </tr>\n",
              "    <tr>\n",
              "      <th>5</th>\n",
              "      <td>6</td>\n",
              "      <td>[age, creatinine_phosphokinase, ejection_fract...</td>\n",
              "      <td>0.815</td>\n",
              "    </tr>\n",
              "    <tr>\n",
              "      <th>8</th>\n",
              "      <td>7</td>\n",
              "      <td>[age, creatinine_phosphokinase, ejection_fract...</td>\n",
              "      <td>0.815</td>\n",
              "    </tr>\n",
              "    <tr>\n",
              "      <th>1</th>\n",
              "      <td>3</td>\n",
              "      <td>[age, ejection_fraction, serum_creatinine]</td>\n",
              "      <td>0.813</td>\n",
              "    </tr>\n",
              "    <tr>\n",
              "      <th>3</th>\n",
              "      <td>5</td>\n",
              "      <td>[age, diabetes, ejection_fraction, serum_creat...</td>\n",
              "      <td>0.813</td>\n",
              "    </tr>\n",
              "    <tr>\n",
              "      <th>6</th>\n",
              "      <td>8</td>\n",
              "      <td>[age, creatinine_phosphokinase, diabetes, ejec...</td>\n",
              "      <td>0.810</td>\n",
              "    </tr>\n",
              "    <tr>\n",
              "      <th>4</th>\n",
              "      <td>4</td>\n",
              "      <td>[age, ejection_fraction, serum_creatinine, ser...</td>\n",
              "      <td>0.804</td>\n",
              "    </tr>\n",
              "    <tr>\n",
              "      <th>0</th>\n",
              "      <td>2</td>\n",
              "      <td>[age, serum_creatinine]</td>\n",
              "      <td>0.745</td>\n",
              "    </tr>\n",
              "  </tbody>\n",
              "</table>\n",
              "</div>"
            ],
            "text/plain": [
              "   No of Feats                                       Chosen Feats  Scores\n",
              "7            3         [age, ejection_fraction, serum_creatinine]   0.828\n",
              "2            4  [age, anaemia, ejection_fraction, serum_creati...   0.823\n",
              "5            6  [age, creatinine_phosphokinase, ejection_fract...   0.815\n",
              "8            7  [age, creatinine_phosphokinase, ejection_fract...   0.815\n",
              "1            3         [age, ejection_fraction, serum_creatinine]   0.813\n",
              "3            5  [age, diabetes, ejection_fraction, serum_creat...   0.813\n",
              "6            8  [age, creatinine_phosphokinase, diabetes, ejec...   0.810\n",
              "4            4  [age, ejection_fraction, serum_creatinine, ser...   0.804\n",
              "0            2                            [age, serum_creatinine]   0.745"
            ]
          },
          "metadata": {
            "tags": []
          },
          "execution_count": 16
        }
      ]
    },
    {
      "cell_type": "code",
      "metadata": {
        "id": "kImUsR63Mved",
        "colab": {
          "base_uri": "https://localhost:8080/"
        },
        "outputId": "97cf2393-f792-4842-827e-49d9f60bcba3"
      },
      "source": [
        "for i in range(len(report)):\n",
        "  featset = report.iloc[i,1] ; print(featset)\n",
        "  clf = RandomForestClassifier(max_depth = 3)\n",
        "  rskf = RepeatedStratifiedKFold(n_repeats = 10, n_splits = 10)\n",
        "  X = D[featset]; y = D.iloc[:,-1]\n",
        "  print(np.mean(cross_val_score(clf, X, y, cv = rskf, scoring = \"roc_auc\")))\n",
        "  #.817"
      ],
      "execution_count": 17,
      "outputs": [
        {
          "output_type": "stream",
          "text": [
            "['age', 'ejection_fraction', 'serum_creatinine']\n",
            "0.8097667989417989\n",
            "['age', 'anaemia', 'ejection_fraction', 'serum_creatinine']\n",
            "0.8081757936507937\n",
            "['age', 'creatinine_phosphokinase', 'ejection_fraction', 'platelets', 'serum_creatinine', 'serum_sodium']\n",
            "0.7992923280423281\n",
            "['age', 'creatinine_phosphokinase', 'ejection_fraction', 'high_blood_pressure', 'serum_creatinine', 'serum_sodium', 'sex']\n",
            "0.7996661375661374\n",
            "['age', 'ejection_fraction', 'serum_creatinine']\n",
            "0.8105705026455027\n",
            "['age', 'diabetes', 'ejection_fraction', 'serum_creatinine', 'smoking']\n",
            "0.7995469576719576\n",
            "['age', 'creatinine_phosphokinase', 'diabetes', 'ejection_fraction', 'platelets', 'serum_creatinine', 'sex', 'smoking']\n",
            "0.7998859788359789\n",
            "['age', 'ejection_fraction', 'serum_creatinine', 'serum_sodium']\n",
            "0.8023404761904761\n",
            "['age', 'serum_creatinine']\n",
            "0.7374715608465608\n"
          ],
          "name": "stdout"
        }
      ]
    }
  ]
}