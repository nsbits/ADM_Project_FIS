{
  "nbformat": 4,
  "nbformat_minor": 0,
  "metadata": {
    "colab": {
      "name": "2_Data_Discretization.ipynb",
      "provenance": []
    },
    "kernelspec": {
      "name": "python3",
      "display_name": "Python 3"
    },
    "language_info": {
      "name": "python"
    }
  },
  "cells": [
    {
      "cell_type": "code",
      "metadata": {
        "id": "_NOcoHH5LnT_"
      },
      "source": [
        "import pandas as pd\n",
        "from pandas import *\n",
        "import numpy as np"
      ],
      "execution_count": 2,
      "outputs": []
    },
    {
      "cell_type": "code",
      "metadata": {
        "id": "sTcSZ4h0c4Iz"
      },
      "source": [
        "#anemia diabetes high_blood_pressure sex smoking and final output class 'DEATH EVENT' are not to be discretized"
      ],
      "execution_count": 3,
      "outputs": []
    },
    {
      "cell_type": "code",
      "metadata": {
        "colab": {
          "base_uri": "https://localhost:8080/"
        },
        "id": "YhU3ZZlwLqpc",
        "outputId": "46df444a-32de-44af-bfca-cf163a48ee21"
      },
      "source": [
        "d = read_csv(\"/content/heart_failure_clinical_records_dataset.csv\")\n",
        "print(d)"
      ],
      "execution_count": 4,
      "outputs": [
        {
          "output_type": "stream",
          "text": [
            "      age  anaemia  creatinine_phosphokinase  ...  smoking  time  DEATH_EVENT\n",
            "0    75.0        0                       582  ...        0     4            1\n",
            "1    55.0        0                      7861  ...        0     6            1\n",
            "2    65.0        0                       146  ...        1     7            1\n",
            "3    50.0        1                       111  ...        0     7            1\n",
            "4    65.0        1                       160  ...        0     8            1\n",
            "..    ...      ...                       ...  ...      ...   ...          ...\n",
            "294  62.0        0                        61  ...        1   270            0\n",
            "295  55.0        0                      1820  ...        0   271            0\n",
            "296  45.0        0                      2060  ...        0   278            0\n",
            "297  45.0        0                      2413  ...        1   280            0\n",
            "298  50.0        0                       196  ...        1   285            0\n",
            "\n",
            "[299 rows x 13 columns]\n"
          ],
          "name": "stdout"
        }
      ]
    },
    {
      "cell_type": "code",
      "metadata": {
        "id": "mqxH0fDtLulz"
      },
      "source": [
        "dnew = pd.DataFrame()\n",
        "dold = pd.DataFrame"
      ],
      "execution_count": 5,
      "outputs": []
    },
    {
      "cell_type": "code",
      "metadata": {
        "id": "PPTK-BxNOJWy"
      },
      "source": [
        "dnew['age_bins'] = pd.cut(x=d['age'], bins=[40.00, 56.50, 73.00, 95.00])"
      ],
      "execution_count": 6,
      "outputs": []
    },
    {
      "cell_type": "code",
      "metadata": {
        "colab": {
          "base_uri": "https://localhost:8080/"
        },
        "id": "jAH40DI1Of-3",
        "outputId": "862c294f-e266-4096-ebb5-6a9fea42b311"
      },
      "source": [
        "print(dnew)"
      ],
      "execution_count": 7,
      "outputs": [
        {
          "output_type": "stream",
          "text": [
            "         age_bins\n",
            "0    (73.0, 95.0]\n",
            "1    (40.0, 56.5]\n",
            "2    (56.5, 73.0]\n",
            "3    (40.0, 56.5]\n",
            "4    (56.5, 73.0]\n",
            "..            ...\n",
            "294  (56.5, 73.0]\n",
            "295  (40.0, 56.5]\n",
            "296  (40.0, 56.5]\n",
            "297  (40.0, 56.5]\n",
            "298  (40.0, 56.5]\n",
            "\n",
            "[299 rows x 1 columns]\n"
          ],
          "name": "stdout"
        }
      ]
    },
    {
      "cell_type": "code",
      "metadata": {
        "id": "zwnBog4TO0UN"
      },
      "source": [
        "dnew['age_by_ds'] = pd.cut(x=d['age'], bins=[39.00, 56.50, 73.00, 95.00], labels=['0', '1', '2'])"
      ],
      "execution_count": 8,
      "outputs": []
    },
    {
      "cell_type": "code",
      "metadata": {
        "colab": {
          "base_uri": "https://localhost:8080/"
        },
        "id": "1Qoq8DjiPOrl",
        "outputId": "39d8d6e6-27f4-4763-d742-f48f544c4ee6"
      },
      "source": [
        "print(dnew)"
      ],
      "execution_count": 9,
      "outputs": [
        {
          "output_type": "stream",
          "text": [
            "         age_bins age_by_ds\n",
            "0    (73.0, 95.0]         2\n",
            "1    (40.0, 56.5]         0\n",
            "2    (56.5, 73.0]         1\n",
            "3    (40.0, 56.5]         0\n",
            "4    (56.5, 73.0]         1\n",
            "..            ...       ...\n",
            "294  (56.5, 73.0]         1\n",
            "295  (40.0, 56.5]         0\n",
            "296  (40.0, 56.5]         0\n",
            "297  (40.0, 56.5]         0\n",
            "298  (40.0, 56.5]         0\n",
            "\n",
            "[299 rows x 2 columns]\n"
          ],
          "name": "stdout"
        }
      ]
    },
    {
      "cell_type": "code",
      "metadata": {
        "id": "sULlLGvaQLSU"
      },
      "source": [
        "dnew['creatinine_phosphokinase_by_ds'] = pd.cut(x=d['creatinine_phosphokinase'], bins=[22.00, 806.80, 3158.20, 7861.00], labels=['0', '1', '2'])\n",
        "dnew['ejection_fraction_by_ds'] = pd.cut(x=d['ejection_fraction'], bins=[13.00, 33.80, 40.40, 80.00], labels=['0', '1', '2'])\n",
        "dnew['serum_sodium_by_ds'] = pd.cut(x=d['serum_sodium'], bins=[112.00, 134.00, 141.00, 148.00], labels=['0', '1', '2'])\n",
        "dnew['serum_creatinine_by_ds'] = pd.cut(x=d['serum_creatinine'], bins=[0.49, 1.39, 4.06, 9.40], labels=['0', '1', '2'])\n",
        "dnew['platelets_by_ds'] = pd.cut(x=d['platelets'], bins=[25099.00, 190080.00, 355060.00, 850000.00], labels=['0', '1', '2'])\n",
        "dnew['time_by_ds'] = pd.cut(x=d['time'], bins=[3.99, 116.40, 172.60, 285.00], labels=['0', '1', '2'])"
      ],
      "execution_count": 10,
      "outputs": []
    },
    {
      "cell_type": "code",
      "metadata": {
        "colab": {
          "base_uri": "https://localhost:8080/"
        },
        "id": "kuC1Hr_vTNGX",
        "outputId": "07f67b30-b4ad-4a39-9fc7-7eb14ef7e0d0"
      },
      "source": [
        "dnew['age_by_ds'] = dnew['age_by_ds'].astype(int)\n",
        "dnew['creatinine_phosphokinase_by_ds'] = dnew['creatinine_phosphokinase_by_ds'].astype(int)\n",
        "dnew['ejection_fraction_by_ds'] = dnew['ejection_fraction_by_ds'].astype(int)\n",
        "dnew['serum_sodium_by_ds'] = dnew['serum_sodium_by_ds'].astype(int)\n",
        "dnew['serum_creatinine_by_ds'] = dnew['serum_creatinine_by_ds'].astype(int)\n",
        "dnew['platelets_by_ds'] = dnew['platelets_by_ds'].astype(int)\n",
        "dnew['time_by_ds'] = dnew['time_by_ds'].astype(int)\n",
        "dnew['time_by_ds'].dtypes"
      ],
      "execution_count": 11,
      "outputs": [
        {
          "output_type": "execute_result",
          "data": {
            "text/plain": [
              "dtype('int64')"
            ]
          },
          "metadata": {
            "tags": []
          },
          "execution_count": 11
        }
      ]
    },
    {
      "cell_type": "code",
      "metadata": {
        "id": "UR242XRuUxH_"
      },
      "source": [
        "dnew['DeathL'] = d['DEATH_EVENT']"
      ],
      "execution_count": 12,
      "outputs": []
    },
    {
      "cell_type": "code",
      "metadata": {
        "colab": {
          "base_uri": "https://localhost:8080/"
        },
        "id": "uKESPqP-srPX",
        "outputId": "61a999c7-6559-46c6-b268-413c46703002"
      },
      "source": [
        "print(dnew)"
      ],
      "execution_count": 15,
      "outputs": [
        {
          "output_type": "stream",
          "text": [
            "         age_bins  age_by_ds  ...  time_by_ds  DeathL\n",
            "0    (73.0, 95.0]          2  ...           0       1\n",
            "1    (40.0, 56.5]          0  ...           0       1\n",
            "2    (56.5, 73.0]          1  ...           0       1\n",
            "3    (40.0, 56.5]          0  ...           0       1\n",
            "4    (56.5, 73.0]          1  ...           0       1\n",
            "..            ...        ...  ...         ...     ...\n",
            "294  (56.5, 73.0]          1  ...           2       0\n",
            "295  (40.0, 56.5]          0  ...           2       0\n",
            "296  (40.0, 56.5]          0  ...           2       0\n",
            "297  (40.0, 56.5]          0  ...           2       0\n",
            "298  (40.0, 56.5]          0  ...           2       0\n",
            "\n",
            "[299 rows x 9 columns]\n"
          ],
          "name": "stdout"
        }
      ]
    },
    {
      "cell_type": "code",
      "metadata": {
        "id": "MSECpoJTUg31"
      },
      "source": [
        "dnew.to_csv(\"/content/discretised_dataset.csv\")"
      ],
      "execution_count": 14,
      "outputs": []
    }
  ]
}